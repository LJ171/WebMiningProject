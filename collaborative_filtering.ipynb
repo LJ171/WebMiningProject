{
 "cells": [
  {
   "cell_type": "markdown",
   "id": "ab720fbb-b47d-4547-b1e4-a705d8ff56e8",
   "metadata": {
    "tags": []
   },
   "source": [
    "# Parameters"
   ]
  },
  {
   "cell_type": "code",
   "execution_count": 1,
   "id": "2b4819b1-dc40-43ff-ab19-95d07bb3ca8c",
   "metadata": {},
   "outputs": [],
   "source": [
    "subset_name = 'CDs_and_Vinyl'\n",
    "min_amount_product_mentions = 20\n",
    "min_amount_user_mentions = 20 "
   ]
  },
  {
   "cell_type": "markdown",
   "id": "4ea6aadc-ebce-4ccd-b95e-aad56baba255",
   "metadata": {
    "tags": []
   },
   "source": [
    "# Imports"
   ]
  },
  {
   "cell_type": "code",
   "execution_count": 2,
   "id": "fe6f568d-c969-49d1-a595-f07c223ded83",
   "metadata": {},
   "outputs": [],
   "source": [
    "import gzip\n",
    "import json\n",
    "import numpy as np\n",
    "import os\n",
    "import pandas as pd\n",
    "from sklearn.metrics import mean_squared_error, mean_absolute_error\n",
    "from sklearn.metrics.pairwise import cosine_similarity\n",
    "from sklearn.model_selection import train_test_split"
   ]
  },
  {
   "cell_type": "markdown",
   "id": "600e989f-2336-4ed4-9c41-baa11f98f0a4",
   "metadata": {},
   "source": [
    "# Data"
   ]
  },
  {
   "cell_type": "code",
   "execution_count": 3,
   "id": "c55dcf6f-0602-4be7-ae94-41743b3911e4",
   "metadata": {},
   "outputs": [],
   "source": [
    "def get_data(subset_name, min_amount_product_mentions, min_amount_user_mentions, test_size=0.1, random_state=42):    \n",
    "    data = []\n",
    "    with gzip.open(os.path.join('data', f'meta_{subset_name}.json.gz')) as f:\n",
    "        for l in f:\n",
    "            data.append(json.loads(l.strip()))\n",
    "    meta_df = pd.DataFrame.from_dict(data)\n",
    "    meta_df = meta_df[['asin', 'title']]\n",
    "    meta_df = meta_df.drop_duplicates()  \n",
    "    \n",
    "    data = []\n",
    "    with gzip.open(os.path.join('data', f'{subset_name}.json.gz')) as f:\n",
    "        for l in f:\n",
    "            data.append(json.loads(l.strip()))\n",
    "    rating_df = pd.DataFrame.from_dict(data)\n",
    "    rating_df = rating_df[['asin', 'reviewerID', 'overall', 'reviewTime']]\n",
    "    \n",
    "    rating_df = rating_df.drop_duplicates()    \n",
    "    rating_df = rating_df[rating_df['asin'].map(rating_df['asin'].value_counts()) >= min_amount_product_mentions]\n",
    "    rating_df = rating_df[rating_df['reviewerID'].map(rating_df['reviewerID'].value_counts()) >= min_amount_user_mentions]\n",
    "    \n",
    "    X = rating_df.copy()\n",
    "    y = rating_df['overall']\n",
    "    X_train, X_test, y_train, y_test = train_test_split(X, y, test_size=test_size, stratify=y, random_state=random_state)\n",
    "        \n",
    "    return X_train, X_test, y_train, y_test, meta_df"
   ]
  },
  {
   "cell_type": "code",
   "execution_count": 4,
   "id": "f669d89b-a429-4ef5-b13f-4b4046f63b14",
   "metadata": {},
   "outputs": [],
   "source": [
    "X_train, X_test, y_train, y_test, meta_df = get_data(subset_name, min_amount_product_mentions, min_amount_user_mentions)"
   ]
  },
  {
   "cell_type": "code",
   "execution_count": 5,
   "id": "be52827b-823c-4df1-9209-166c206d3eda",
   "metadata": {},
   "outputs": [
    {
     "name": "stdout",
     "output_type": "stream",
     "text": [
      "(407553, 4)\n",
      "(45284, 4)\n"
     ]
    }
   ],
   "source": [
    "print(X_train.shape)\n",
    "print(X_test.shape)"
   ]
  },
  {
   "cell_type": "code",
   "execution_count": 6,
   "id": "7fbd5056-df43-4067-a2f7-8b95dde36b6a",
   "metadata": {},
   "outputs": [
    {
     "data": {
      "text/html": [
       "<div>\n",
       "<style scoped>\n",
       "    .dataframe tbody tr th:only-of-type {\n",
       "        vertical-align: middle;\n",
       "    }\n",
       "\n",
       "    .dataframe tbody tr th {\n",
       "        vertical-align: top;\n",
       "    }\n",
       "\n",
       "    .dataframe thead th {\n",
       "        text-align: right;\n",
       "    }\n",
       "</style>\n",
       "<table border=\"1\" class=\"dataframe\">\n",
       "  <thead>\n",
       "    <tr style=\"text-align: right;\">\n",
       "      <th></th>\n",
       "      <th>asin</th>\n",
       "      <th>reviewerID</th>\n",
       "      <th>overall</th>\n",
       "      <th>reviewTime</th>\n",
       "    </tr>\n",
       "  </thead>\n",
       "  <tbody>\n",
       "    <tr>\n",
       "      <th>2140084</th>\n",
       "      <td>B0067FGYGQ</td>\n",
       "      <td>A1N5FSCYN4796F</td>\n",
       "      <td>4.0</td>\n",
       "      <td>03 22, 2012</td>\n",
       "    </tr>\n",
       "    <tr>\n",
       "      <th>2812507</th>\n",
       "      <td>B000000YGA</td>\n",
       "      <td>AI43VKPN5NF7D</td>\n",
       "      <td>5.0</td>\n",
       "      <td>10 12, 2014</td>\n",
       "    </tr>\n",
       "    <tr>\n",
       "      <th>1957854</th>\n",
       "      <td>B0030BYWKU</td>\n",
       "      <td>A200C7YQJ45LRR</td>\n",
       "      <td>3.0</td>\n",
       "      <td>04 3, 2010</td>\n",
       "    </tr>\n",
       "    <tr>\n",
       "      <th>1706107</th>\n",
       "      <td>B0014XCMV2</td>\n",
       "      <td>AI83XP5L7OMAU</td>\n",
       "      <td>5.0</td>\n",
       "      <td>07 13, 2008</td>\n",
       "    </tr>\n",
       "    <tr>\n",
       "      <th>2638225</th>\n",
       "      <td>B00R55U1UW</td>\n",
       "      <td>AC6UTDXWZTIEH</td>\n",
       "      <td>4.0</td>\n",
       "      <td>02 17, 2015</td>\n",
       "    </tr>\n",
       "  </tbody>\n",
       "</table>\n",
       "</div>"
      ],
      "text/plain": [
       "               asin      reviewerID  overall   reviewTime\n",
       "2140084  B0067FGYGQ  A1N5FSCYN4796F      4.0  03 22, 2012\n",
       "2812507  B000000YGA   AI43VKPN5NF7D      5.0  10 12, 2014\n",
       "1957854  B0030BYWKU  A200C7YQJ45LRR      3.0   04 3, 2010\n",
       "1706107  B0014XCMV2   AI83XP5L7OMAU      5.0  07 13, 2008\n",
       "2638225  B00R55U1UW   AC6UTDXWZTIEH      4.0  02 17, 2015"
      ]
     },
     "execution_count": 6,
     "metadata": {},
     "output_type": "execute_result"
    }
   ],
   "source": [
    "X_train.head()"
   ]
  },
  {
   "cell_type": "code",
   "execution_count": 7,
   "id": "43553ce6-39b9-42da-ac16-3b1ae4289c43",
   "metadata": {},
   "outputs": [
    {
     "data": {
      "text/html": [
       "<div>\n",
       "<style scoped>\n",
       "    .dataframe tbody tr th:only-of-type {\n",
       "        vertical-align: middle;\n",
       "    }\n",
       "\n",
       "    .dataframe tbody tr th {\n",
       "        vertical-align: top;\n",
       "    }\n",
       "\n",
       "    .dataframe thead th {\n",
       "        text-align: right;\n",
       "    }\n",
       "</style>\n",
       "<table border=\"1\" class=\"dataframe\">\n",
       "  <thead>\n",
       "    <tr style=\"text-align: right;\">\n",
       "      <th></th>\n",
       "      <th>asin</th>\n",
       "      <th>title</th>\n",
       "    </tr>\n",
       "  </thead>\n",
       "  <tbody>\n",
       "    <tr>\n",
       "      <th>0</th>\n",
       "      <td>0001393774</td>\n",
       "      <td>Songs for the Shepherd</td>\n",
       "    </tr>\n",
       "    <tr>\n",
       "      <th>1</th>\n",
       "      <td>0001501348</td>\n",
       "      <td>Lift Him Up With Ron Kenoly VHS</td>\n",
       "    </tr>\n",
       "    <tr>\n",
       "      <th>2</th>\n",
       "      <td>0001515209</td>\n",
       "      <td>I Love You</td>\n",
       "    </tr>\n",
       "    <tr>\n",
       "      <th>3</th>\n",
       "      <td>0005072298</td>\n",
       "      <td>Hymns: 16 Classic Hymns for Children</td>\n",
       "    </tr>\n",
       "    <tr>\n",
       "      <th>4</th>\n",
       "      <td>0005121515</td>\n",
       "      <td>Christmas Carols</td>\n",
       "    </tr>\n",
       "  </tbody>\n",
       "</table>\n",
       "</div>"
      ],
      "text/plain": [
       "         asin                                 title\n",
       "0  0001393774                Songs for the Shepherd\n",
       "1  0001501348       Lift Him Up With Ron Kenoly VHS\n",
       "2  0001515209                            I Love You\n",
       "3  0005072298  Hymns: 16 Classic Hymns for Children\n",
       "4  0005121515                      Christmas Carols"
      ]
     },
     "execution_count": 7,
     "metadata": {},
     "output_type": "execute_result"
    }
   ],
   "source": [
    "meta_df.head()"
   ]
  },
  {
   "cell_type": "markdown",
   "id": "b4aaa7b0-3fa7-4c07-9d46-cba4d9087abf",
   "metadata": {
    "tags": []
   },
   "source": [
    "# Lazy Getter "
   ]
  },
  {
   "cell_type": "code",
   "execution_count": 8,
   "id": "1491c26a-9ec5-4b7a-b2f0-a730a6e495ae",
   "metadata": {},
   "outputs": [],
   "source": [
    "user_product_matrix = None\n",
    "def get_user_product_matrix(df):\n",
    "    global user_product_matrix\n",
    "    if not isinstance(user_product_matrix, pd.DataFrame):\n",
    "         user_product_matrix = pd.crosstab(X_train.reviewerID, X_train.asin, X_train.overall, aggfunc='max')\n",
    "    return user_product_matrix\n",
    "\n",
    "user_cos_similarity_matrix = None\n",
    "def get_user_cos_similarity_matrix(user_product_matrix):\n",
    "    global user_cos_similarity_matrix\n",
    "    if not isinstance(user_cos_similarity_matrix, pd.DataFrame):\n",
    "        cos_similarity = cosine_similarity(user_product_matrix.copy().fillna(0))\n",
    "        user_cos_similarity_matrix = pd.DataFrame(cos_similarity, index=user_product_matrix.index)\n",
    "        user_cos_similarity_matrix.columns = user_product_matrix.index\n",
    "    return user_cos_similarity_matrix\n",
    "\n",
    "user_pea_similarity_matrix = None\n",
    "def get_user_pea_similarity_matrix(user_product_matrix):\n",
    "    global user_pea_similarity_matrix\n",
    "    if not isinstance(user_pea_similarity_matrix, pd.DataFrame):\n",
    "        pea_similarity = np.corrcoef(user_product_matrix.copy().fillna(0))\n",
    "        user_pea_similarity_matrix = pd.DataFrame(pea_similarity, index=user_product_matrix.index)\n",
    "        user_pea_similarity_matrix.columns = user_product_matrix.index\n",
    "    return user_cos_similarity_matrix"
   ]
  },
  {
   "cell_type": "markdown",
   "id": "cb744e7a-1554-4afb-b3a9-fc8b333579c4",
   "metadata": {},
   "source": [
    "# Base Model"
   ]
  },
  {
   "cell_type": "code",
   "execution_count": 9,
   "id": "7ff7fe0b-e3ba-42e6-bd26-4164231842d1",
   "metadata": {},
   "outputs": [],
   "source": [
    "class BaseModel:\n",
    "    \n",
    "    def __init__(self, X_train, X_test, y_train, y_test, meta_df):\n",
    "        self._X_train = X_train\n",
    "        self._y_train = y_train\n",
    "        self._X_test = X_test\n",
    "        self._y_test = y_test\n",
    "        \n",
    "        self._user_product_matrix = get_user_product_matrix(X_train)\n",
    "                \n",
    "        self._meta_df = meta_df\n",
    "        self._all_product_ids = pd.concat([X_train, X_test])['asin'].unique()\n",
    "        \n",
    "    def predict(self, user_id, product_id):\n",
    "        return 2.5\n",
    "    \n",
    "    def rmse_on_test_set(self, predicted_ratings):\n",
    "        return np.sqrt(mean_squared_error(self._y_test, predicted_ratings))\n",
    "    \n",
    "    def mae_on_test_set(self, predicted_ratings):\n",
    "        return mean_absolute_error(self._y_test, predicted_ratings)\n",
    "    \n",
    "    def score_on_test_set(self):\n",
    "        user_product_pairs =  zip(self._X_test['reviewerID'], self._X_test['asin'])\n",
    "        predicted_ratings = np.array([self.predict(user, product) for (user, product) in user_product_pairs])\n",
    "        \n",
    "        rmse = self.rmse_on_test_set(predicted_ratings)\n",
    "        mae = self.mae_on_test_set(predicted_ratings)\n",
    "        \n",
    "        print(f'RMSE: {rmse}')\n",
    "        print(f'MAE: {mae}')\n",
    "        \n",
    "        return rmse, mae\n",
    "    \n",
    "    def get_recommendations(self, user_id, k=5):\n",
    "        predicted_ratings = [(product, self.predict(user_id, product)) for product in self._all_product_ids]\n",
    "        sort_by_ratings = sorted(predicted_ratings, key=lambda predicted_ratings: (predicted_ratings[1], predicted_ratings[0]), reverse=True)\n",
    "        return [pair[0] for pair in sort_by_ratings[:k]]\n",
    "    \n",
    "    def display_recommendations(self, user_id, k=5):\n",
    "        self._display_user_info(user_id)\n",
    "        \n",
    "        rec_ids = self.get_recommendations(user_id, k)\n",
    "        \n",
    "        for (i, rec_id) in enumerate(rec_ids):\n",
    "            print(f'Recommondation {i+1}:')\n",
    "            self._display_product(rec_id)\n",
    "            print('')\n",
    "            \n",
    "    def _display_user_info(self, user_id, k=5):\n",
    "        print(f'User {user_id} has previously enjoyed:')\n",
    "        best_rated_products = self._user_product_matrix.loc[user_id][~self._user_product_matrix.loc[user_id].isnull()].sort_values(ascending=False).head(5).index.values\n",
    "        for product_id in best_rated_products:\n",
    "            self._display_product(product_id)\n",
    "        print('')\n",
    "        \n",
    "    def _display_product(self, product_id):\n",
    "        reindexed_meta_df = self._meta_df.set_index('asin')\n",
    "        if(product_id in reindexed_meta_df.index.values):\n",
    "            product = reindexed_meta_df.loc[product_id]\n",
    "            print(f'Title: : {product[\"title\"]}')\n",
    "        else:\n",
    "            print(f'No metadata for product with id {product_id} found')\n",
    "        "
   ]
  },
  {
   "cell_type": "code",
   "execution_count": 10,
   "id": "a2b993c2-47ae-4666-9440-b23590598c46",
   "metadata": {},
   "outputs": [
    {
     "name": "stdout",
     "output_type": "stream",
     "text": [
      "RMSE: 2.1118730903697203\n",
      "MAE: 1.9897756381945058\n"
     ]
    },
    {
     "data": {
      "text/plain": [
       "(2.1118730903697203, 1.9897756381945058)"
      ]
     },
     "execution_count": 10,
     "metadata": {},
     "output_type": "execute_result"
    }
   ],
   "source": [
    "base_model = BaseModel(X_train, X_test, y_train, y_test, meta_df)\n",
    "base_model.score_on_test_set()"
   ]
  },
  {
   "cell_type": "markdown",
   "id": "776030a5-e10e-467b-b6f6-eb61ff117480",
   "metadata": {},
   "source": [
    "# Weighted Average"
   ]
  },
  {
   "cell_type": "code",
   "execution_count": 12,
   "id": "2301f86e-34c3-42ce-a326-00876443230d",
   "metadata": {},
   "outputs": [],
   "source": [
    "class WeightedAverageModel(BaseModel):\n",
    "    \n",
    "    def __init__(self, X_train, X_test, y_train, y_test, meta_df, similarity='cosine'):\n",
    "        BaseModel.__init__(self, X_train, X_test, y_train, y_test, meta_df)\n",
    "        \n",
    "        if similarity == 'cosine': \n",
    "            self._similarity = get_user_cos_similarity_matrix(self._user_product_matrix)\n",
    "        elif similarity == 'pearson':\n",
    "            self._similarity = get_user_pea_similarity_matrix(self._user_product_matrix)\n",
    "        else:\n",
    "            raise Exception\n",
    "    \n",
    "    def predict(self, user_id, product_id):\n",
    "        if product_id in self._user_product_matrix:\n",
    "            sim_scores = self._similarity[user_id] \n",
    "            ratings_scores = self._user_product_matrix[product_id] \n",
    "\n",
    "            index_not_rated = ratings_scores[ratings_scores.isnull()].index\n",
    "            ratings_scores = ratings_scores.dropna()\n",
    "            sim_scores = sim_scores.drop(index_not_rated)\n",
    "\n",
    "            if sim_scores.sum() != 0:\n",
    "                return np.dot(ratings_scores, sim_scores)/sim_scores.sum()\n",
    "        \n",
    "        return 2.5"
   ]
  },
  {
   "cell_type": "code",
   "execution_count": 13,
   "id": "e92479fc-47db-4daf-a4dc-2bdd4a41528d",
   "metadata": {},
   "outputs": [
    {
     "name": "stdout",
     "output_type": "stream",
     "text": [
      "RMSE: 1.0881908494922603\n",
      "MAE: 0.7775115402863946\n"
     ]
    },
    {
     "data": {
      "text/plain": [
       "(1.0881908494922603, 0.7775115402863946)"
      ]
     },
     "execution_count": 13,
     "metadata": {},
     "output_type": "execute_result"
    }
   ],
   "source": [
    "weighted_average_model = WeightedAverageModel(X_train, X_test, y_train, y_test, meta_df)\n",
    "weighted_average_model.score_on_test_set()"
   ]
  },
  {
   "cell_type": "markdown",
   "id": "db48162a-43bb-4491-a089-36bd7ced72d8",
   "metadata": {},
   "source": [
    "# KNN"
   ]
  },
  {
   "cell_type": "code",
   "execution_count": 14,
   "id": "5731ed5b-7fae-4455-8cdb-dce8f1ca0f06",
   "metadata": {},
   "outputs": [],
   "source": [
    "class KnnModel(BaseModel):\n",
    "    \n",
    "    def __init__(self, X_train, X_test, y_train, y_test, meta_df, similarity='cosine', k=10):\n",
    "        BaseModel.__init__(self, X_train, X_test, y_train, y_test, meta_df)\n",
    "        \n",
    "        self._k = k        \n",
    "        \n",
    "        if similarity == 'cosine': \n",
    "            cos_similarity = cosine_similarity(self._user_product_matrix.copy().fillna(0))\n",
    "            self._similarity = pd.DataFrame(cos_similarity, index=self._user_product_matrix.index)\n",
    "            self._similarity.columns = self._user_product_matrix.index\n",
    "        elif similarity == 'pearson':\n",
    "            pea_similarity = np.corrcoef(self._user_product_matrix.copy().fillna(0))\n",
    "            self._similarity = pd.DataFrame(pea_similarity, index=self._user_product_matrix.index)\n",
    "            self._similarity.columns = self._user_product_matrix.index\n",
    "        else:\n",
    "            raise Exception\n",
    "    \n",
    "    def _knn_filtered(self, user_id, product_id, k):\n",
    "        return self._similarity[user_id][~np.isnan(self._user_product_matrix[product_id])].sort_values(ascending=False).head(k)\n",
    "    \n",
    "    def predict(self, user_id, product_id):\n",
    "        if product_id in self._user_product_matrix:\n",
    "            neighbours = self._knn_filtered(user_id, product_id, self._k)\n",
    "\n",
    "            if not len(neighbours):\n",
    "                return 2.5\n",
    "            \n",
    "            ratings = self._user_product_matrix[product_id][neighbours.index.values].to_numpy().astype(float)\n",
    "            weights = neighbours.values.astype(float)\n",
    "            \n",
    "            if weights.sum() != 0:\n",
    "                return np.dot(ratings, weights)/weights.sum()\n",
    "        return 2.5"
   ]
  },
  {
   "cell_type": "code",
   "execution_count": 15,
   "id": "effb7f3b-8eb8-4dcc-be88-cf9676b389be",
   "metadata": {},
   "outputs": [
    {
     "name": "stdout",
     "output_type": "stream",
     "text": [
      "RMSE: 1.09160312713944\n",
      "MAE: 0.7741288942303893\n"
     ]
    },
    {
     "data": {
      "text/plain": [
       "(1.09160312713944, 0.7741288942303893)"
      ]
     },
     "execution_count": 15,
     "metadata": {},
     "output_type": "execute_result"
    }
   ],
   "source": [
    "knn_model = KnnModel(X_train, X_test, y_train, y_test, meta_df, k=10)\n",
    "knn_model.score_on_test_set()"
   ]
  },
  {
   "cell_type": "code",
   "execution_count": 16,
   "id": "a2705aec-0f31-4fc5-8a22-253f63f48f4d",
   "metadata": {},
   "outputs": [
    {
     "name": "stdout",
     "output_type": "stream",
     "text": [
      "RMSE: 1.096815033741887\n",
      "MAE: 0.7744033588942375\n"
     ]
    },
    {
     "data": {
      "text/plain": [
       "(1.096815033741887, 0.7744033588942375)"
      ]
     },
     "execution_count": 16,
     "metadata": {},
     "output_type": "execute_result"
    }
   ],
   "source": [
    "knn_model = KnnModel(X_train, X_test, y_train, y_test, meta_df, k=7)\n",
    "knn_model.score_on_test_set()"
   ]
  },
  {
   "cell_type": "code",
   "execution_count": 17,
   "id": "65912919-af72-4fd4-ba18-23a15b22e0be",
   "metadata": {},
   "outputs": [
    {
     "name": "stdout",
     "output_type": "stream",
     "text": [
      "RMSE: 1.106599279533919\n",
      "MAE: 0.7769100476571354\n"
     ]
    },
    {
     "data": {
      "text/plain": [
       "(1.106599279533919, 0.7769100476571354)"
      ]
     },
     "execution_count": 17,
     "metadata": {},
     "output_type": "execute_result"
    }
   ],
   "source": [
    "knn_model = KnnModel(X_train, X_test, y_train, y_test, meta_df, k=5)\n",
    "knn_model.score_on_test_set()"
   ]
  },
  {
   "cell_type": "code",
   "execution_count": 18,
   "id": "4c69d9dc-4269-4d2b-b67e-fcc9b3bf1126",
   "metadata": {},
   "outputs": [
    {
     "name": "stdout",
     "output_type": "stream",
     "text": [
      "RMSE: 1.134017119333312\n",
      "MAE: 0.7849504376685776\n"
     ]
    },
    {
     "data": {
      "text/plain": [
       "(1.134017119333312, 0.7849504376685776)"
      ]
     },
     "execution_count": 18,
     "metadata": {},
     "output_type": "execute_result"
    }
   ],
   "source": [
    "knn_model = KnnModel(X_train, X_test, y_train, y_test, meta_df, k=3)\n",
    "knn_model.score_on_test_set()"
   ]
  },
  {
   "cell_type": "code",
   "execution_count": 19,
   "id": "dac3f137-7ef8-4ce0-a36a-5c6455e7c57d",
   "metadata": {},
   "outputs": [
    {
     "name": "stdout",
     "output_type": "stream",
     "text": [
      "RMSE: 1.2996117084359562\n",
      "MAE: 0.8355379383446692\n"
     ]
    },
    {
     "data": {
      "text/plain": [
       "(1.2996117084359562, 0.8355379383446692)"
      ]
     },
     "execution_count": 19,
     "metadata": {},
     "output_type": "execute_result"
    }
   ],
   "source": [
    "knn_model = KnnModel(X_train, X_test, y_train, y_test, meta_df, k=1)\n",
    "knn_model.score_on_test_set()"
   ]
  },
  {
   "cell_type": "code",
   "execution_count": 20,
   "id": "638ae6ab-6d24-4f44-9b90-55f2d9617196",
   "metadata": {},
   "outputs": [
    {
     "name": "stdout",
     "output_type": "stream",
     "text": [
      "RMSE: 21.67586206074521\n",
      "MAE: 0.903924472946585\n"
     ]
    },
    {
     "data": {
      "text/plain": [
       "(21.67586206074521, 0.903924472946585)"
      ]
     },
     "execution_count": 20,
     "metadata": {},
     "output_type": "execute_result"
    }
   ],
   "source": [
    "knn_model = KnnModel(X_train, X_test, y_train, y_test, meta_df, 'pearson', k=10)\n",
    "knn_model.score_on_test_set()"
   ]
  },
  {
   "cell_type": "markdown",
   "id": "f7991b68-7394-4106-a7c7-7fc4fc08857c",
   "metadata": {},
   "source": [
    "# Display Recommendations"
   ]
  },
  {
   "cell_type": "code",
   "execution_count": 23,
   "id": "0cf99ac0-5abe-4739-897a-29df638c94ee",
   "metadata": {},
   "outputs": [
    {
     "name": "stdout",
     "output_type": "stream",
     "text": [
      "User A1N5FSCYN4796F has previously enjoyed:\n",
      "Title: : Different Shades of Blue\n",
      "Title: : Croweology\n",
      "No metadata for product with id B008V0OLOW found\n",
      "Title: : Lifeline\n",
      "Title: : Sloe Gin\n",
      "\n",
      "Recommondation 1:\n",
      "Title: : The Complete Concert by the Sea\n",
      "\n",
      "Recommondation 2:\n",
      "Title: : Deathless\n",
      "\n",
      "Recommondation 3:\n",
      "No metadata for product with id B00DGL3IKY found\n",
      "\n",
      "Recommondation 4:\n",
      "Title: : asin\n",
      "B0000DFZZV    Silver Jubilee\n",
      "B0000DFZZV    Silver Jubilee\n",
      "Name: title, dtype: object\n",
      "\n",
      "Recommondation 5:\n",
      "Title: : Phil Spector: Back to Mono\n",
      "\n"
     ]
    }
   ],
   "source": [
    "weighted_average_model.display_recommendations('A1N5FSCYN4796F')"
   ]
  },
  {
   "cell_type": "code",
   "execution_count": null,
   "id": "5ed2ee67-794a-4d80-a288-05c328ddb9dd",
   "metadata": {},
   "outputs": [],
   "source": []
  }
 ],
 "metadata": {
  "kernelspec": {
   "display_name": "Python 3 (ipykernel)",
   "language": "python",
   "name": "python3"
  },
  "language_info": {
   "codemirror_mode": {
    "name": "ipython",
    "version": 3
   },
   "file_extension": ".py",
   "mimetype": "text/x-python",
   "name": "python",
   "nbconvert_exporter": "python",
   "pygments_lexer": "ipython3",
   "version": "3.8.12"
  }
 },
 "nbformat": 4,
 "nbformat_minor": 5
}
