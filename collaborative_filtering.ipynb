{
 "cells": [
  {
   "cell_type": "markdown",
   "id": "ab720fbb-b47d-4547-b1e4-a705d8ff56e8",
   "metadata": {
    "tags": []
   },
   "source": [
    "# Parameters"
   ]
  },
  {
   "cell_type": "code",
   "execution_count": 1,
   "id": "2b4819b1-dc40-43ff-ab19-95d07bb3ca8c",
   "metadata": {},
   "outputs": [],
   "source": [
    "subset_name = 'CDs_and_Vinyl'\n",
    "min_amount_product_mentions = 20\n",
    "min_amount_user_mentions = 20 "
   ]
  },
  {
   "cell_type": "markdown",
   "id": "4ea6aadc-ebce-4ccd-b95e-aad56baba255",
   "metadata": {
    "tags": []
   },
   "source": [
    "# Imports"
   ]
  },
  {
   "cell_type": "code",
   "execution_count": 2,
   "id": "fe6f568d-c969-49d1-a595-f07c223ded83",
   "metadata": {},
   "outputs": [],
   "source": [
    "import gzip\n",
    "import json\n",
    "import numpy as np\n",
    "import os\n",
    "import pandas as pd\n",
    "from sklearn.metrics import mean_squared_error, mean_absolute_error\n",
    "from sklearn.metrics.pairwise import cosine_similarity\n",
    "from sklearn.model_selection import train_test_split"
   ]
  },
  {
   "cell_type": "markdown",
   "id": "600e989f-2336-4ed4-9c41-baa11f98f0a4",
   "metadata": {},
   "source": [
    "# Data"
   ]
  },
  {
   "cell_type": "code",
   "execution_count": 3,
   "id": "c55dcf6f-0602-4be7-ae94-41743b3911e4",
   "metadata": {},
   "outputs": [],
   "source": [
    "def get_data(subset_name, min_amount_product_mentions, min_amount_user_mentions, test_size=0.1, random_state=42):    \n",
    "    data = []\n",
    "    with gzip.open(os.path.join('data', 'raw', f'meta_{subset_name}.json.gz')) as f:\n",
    "        for l in f:\n",
    "            data.append(json.loads(l.strip()))\n",
    "    meta_df = pd.DataFrame.from_dict(data)\n",
    "    meta_df = meta_df[['asin', 'title']]\n",
    "    \n",
    "    data = []\n",
    "    with gzip.open(os.path.join('data', 'raw', f'{subset_name}.json.gz')) as f:\n",
    "        for l in f:\n",
    "            data.append(json.loads(l.strip()))\n",
    "    rating_df = pd.DataFrame.from_dict(data)\n",
    "    rating_df = rating_df[['asin', 'reviewerID', 'overall', 'reviewTime']]\n",
    "    \n",
    "    rating_df = rating_df.drop_duplicates()    \n",
    "    rating_df = rating_df[rating_df['asin'].map(rating_df['asin'].value_counts()) >= min_amount_product_mentions]\n",
    "    rating_df = rating_df[rating_df['reviewerID'].map(rating_df['reviewerID'].value_counts()) >= min_amount_user_mentions]\n",
    "    \n",
    "    X = rating_df.copy()\n",
    "    y = rating_df['overall']\n",
    "    X_train, X_test, y_train, y_test = train_test_split(X, y, test_size=test_size, stratify=y, random_state=random_state)\n",
    "        \n",
    "    return X_train, X_test, y_train, y_test"
   ]
  },
  {
   "cell_type": "code",
   "execution_count": 4,
   "id": "f669d89b-a429-4ef5-b13f-4b4046f63b14",
   "metadata": {},
   "outputs": [],
   "source": [
    "X_train, X_test, y_train, y_test = get_data(subset_name, min_amount_product_mentions, min_amount_user_mentions)"
   ]
  },
  {
   "cell_type": "code",
   "execution_count": 5,
   "id": "be52827b-823c-4df1-9209-166c206d3eda",
   "metadata": {},
   "outputs": [
    {
     "name": "stdout",
     "output_type": "stream",
     "text": [
      "(407553, 4)\n",
      "(45284, 4)\n"
     ]
    }
   ],
   "source": [
    "print(X_train.shape)\n",
    "print(X_test.shape)"
   ]
  },
  {
   "cell_type": "code",
   "execution_count": 6,
   "id": "7fbd5056-df43-4067-a2f7-8b95dde36b6a",
   "metadata": {},
   "outputs": [
    {
     "data": {
      "text/html": [
       "<div>\n",
       "<style scoped>\n",
       "    .dataframe tbody tr th:only-of-type {\n",
       "        vertical-align: middle;\n",
       "    }\n",
       "\n",
       "    .dataframe tbody tr th {\n",
       "        vertical-align: top;\n",
       "    }\n",
       "\n",
       "    .dataframe thead th {\n",
       "        text-align: right;\n",
       "    }\n",
       "</style>\n",
       "<table border=\"1\" class=\"dataframe\">\n",
       "  <thead>\n",
       "    <tr style=\"text-align: right;\">\n",
       "      <th></th>\n",
       "      <th>asin</th>\n",
       "      <th>reviewerID</th>\n",
       "      <th>overall</th>\n",
       "      <th>reviewTime</th>\n",
       "    </tr>\n",
       "  </thead>\n",
       "  <tbody>\n",
       "    <tr>\n",
       "      <th>2140084</th>\n",
       "      <td>B0067FGYGQ</td>\n",
       "      <td>A1N5FSCYN4796F</td>\n",
       "      <td>4.0</td>\n",
       "      <td>03 22, 2012</td>\n",
       "    </tr>\n",
       "    <tr>\n",
       "      <th>2812507</th>\n",
       "      <td>B000000YGA</td>\n",
       "      <td>AI43VKPN5NF7D</td>\n",
       "      <td>5.0</td>\n",
       "      <td>10 12, 2014</td>\n",
       "    </tr>\n",
       "    <tr>\n",
       "      <th>1957854</th>\n",
       "      <td>B0030BYWKU</td>\n",
       "      <td>A200C7YQJ45LRR</td>\n",
       "      <td>3.0</td>\n",
       "      <td>04 3, 2010</td>\n",
       "    </tr>\n",
       "    <tr>\n",
       "      <th>1706107</th>\n",
       "      <td>B0014XCMV2</td>\n",
       "      <td>AI83XP5L7OMAU</td>\n",
       "      <td>5.0</td>\n",
       "      <td>07 13, 2008</td>\n",
       "    </tr>\n",
       "    <tr>\n",
       "      <th>2638225</th>\n",
       "      <td>B00R55U1UW</td>\n",
       "      <td>AC6UTDXWZTIEH</td>\n",
       "      <td>4.0</td>\n",
       "      <td>02 17, 2015</td>\n",
       "    </tr>\n",
       "  </tbody>\n",
       "</table>\n",
       "</div>"
      ],
      "text/plain": [
       "               asin      reviewerID  overall   reviewTime\n",
       "2140084  B0067FGYGQ  A1N5FSCYN4796F      4.0  03 22, 2012\n",
       "2812507  B000000YGA   AI43VKPN5NF7D      5.0  10 12, 2014\n",
       "1957854  B0030BYWKU  A200C7YQJ45LRR      3.0   04 3, 2010\n",
       "1706107  B0014XCMV2   AI83XP5L7OMAU      5.0  07 13, 2008\n",
       "2638225  B00R55U1UW   AC6UTDXWZTIEH      4.0  02 17, 2015"
      ]
     },
     "execution_count": 6,
     "metadata": {},
     "output_type": "execute_result"
    }
   ],
   "source": [
    "X_train.head()"
   ]
  },
  {
   "cell_type": "markdown",
   "id": "cb744e7a-1554-4afb-b3a9-fc8b333579c4",
   "metadata": {},
   "source": [
    "# Base Model"
   ]
  },
  {
   "cell_type": "code",
   "execution_count": 11,
   "id": "7ff7fe0b-e3ba-42e6-bd26-4164231842d1",
   "metadata": {},
   "outputs": [],
   "source": [
    "class BaseModel:\n",
    "    \n",
    "    def __init__(self, X_train, X_test, y_train, y_test):\n",
    "        self._X_train = X_train\n",
    "        self._y_train = y_train\n",
    "        self._X_test = X_test\n",
    "        self._y_test = y_test \n",
    "        \n",
    "    def predict(self, user_id, product_id):\n",
    "        return 2.5\n",
    "    \n",
    "    def rmse_on_test_set(self, predicted_ratings):\n",
    "        return np.sqrt(mean_squared_error(self._y_test, predicted_ratings))\n",
    "    \n",
    "    def mae_on_test_set(self, predicted_ratings):\n",
    "        return mean_absolute_error(self._y_test, predicted_ratings)\n",
    "    \n",
    "    def score_on_test_set(self):\n",
    "        user_product_pairs =  zip(self._X_test['reviewerID'], self._X_test['asin'])\n",
    "        predicted_ratings = np.array([self.predict(user, product) for (user, product) in user_product_pairs])\n",
    "        \n",
    "        rmse = self.rmse_on_test_set(predicted_ratings)\n",
    "        mae = self.mae_on_test_set(predicted_ratings)\n",
    "        \n",
    "        print(f'RMSE: {rmse}')\n",
    "        print(f'MAE: {mae}')\n",
    "        \n",
    "        return rmse, mae"
   ]
  },
  {
   "cell_type": "code",
   "execution_count": 12,
   "id": "a2b993c2-47ae-4666-9440-b23590598c46",
   "metadata": {},
   "outputs": [
    {
     "name": "stdout",
     "output_type": "stream",
     "text": [
      "RMSE: 2.1118730903697203\n",
      "MAE: 1.9897756381945058\n"
     ]
    },
    {
     "data": {
      "text/plain": [
       "(2.1118730903697203, 1.9897756381945058)"
      ]
     },
     "execution_count": 12,
     "metadata": {},
     "output_type": "execute_result"
    }
   ],
   "source": [
    "base_model = BaseModel(X_train, X_test, y_train, y_test)\n",
    "base_model.score_on_test_set()"
   ]
  },
  {
   "cell_type": "markdown",
   "id": "776030a5-e10e-467b-b6f6-eb61ff117480",
   "metadata": {},
   "source": [
    "# Weighted Average"
   ]
  },
  {
   "cell_type": "code",
   "execution_count": 16,
   "id": "2301f86e-34c3-42ce-a326-00876443230d",
   "metadata": {},
   "outputs": [],
   "source": [
    "class WeightedAverageModel(BaseModel):\n",
    "    \n",
    "    def __init__(self, X_train, X_test, y_train, y_test, similarity='cosine'):\n",
    "        BaseModel.__init__(self, X_train, X_test, y_train, y_test)\n",
    "        \n",
    "        self._user_product_matrix = pd.crosstab(X_train.reviewerID, X_train.asin, X_train.overall, aggfunc='max')\n",
    "        \n",
    "        if similarity == 'cosine': \n",
    "            cos_similarity = cosine_similarity(self._user_product_matrix.copy().fillna(0))\n",
    "            self._similarity = pd.DataFrame(cos_similarity, index=self._user_product_matrix.index)\n",
    "            self._similarity.columns = self._user_product_matrix.index\n",
    "        elif similarity == 'pearson':\n",
    "            pea_similarity = np.corrcoef(self._user_product_matrix.copy().fillna(0))\n",
    "            self._similarity = pd.DataFrame(pea_similarity, index=self._user_product_matrix.index)\n",
    "            self._similarity.columns = self._user_product_matrix.index\n",
    "        else:\n",
    "            raise Exception\n",
    "    \n",
    "    def predict(self, user_id, product_id):\n",
    "        if product_id in self._user_product_matrix:\n",
    "            sim_scores = self._similarity[user_id] \n",
    "            ratings_scores = self._user_product_matrix[product_id] \n",
    "\n",
    "            index_not_rated = ratings_scores[ratings_scores.isnull()].index\n",
    "            ratings_scores = ratings_scores.dropna()\n",
    "            sim_scores = sim_scores.drop(index_not_rated)\n",
    "\n",
    "            if sim_scores.sum() != 0:\n",
    "                return np.dot(ratings_scores, sim_scores)/sim_scores.sum()\n",
    "        \n",
    "        return 2.5"
   ]
  },
  {
   "cell_type": "code",
   "execution_count": 14,
   "id": "e92479fc-47db-4daf-a4dc-2bdd4a41528d",
   "metadata": {},
   "outputs": [
    {
     "name": "stdout",
     "output_type": "stream",
     "text": [
      "RMSE: 1.0881908494922603\n",
      "MAE: 0.7775115402863946\n"
     ]
    },
    {
     "data": {
      "text/plain": [
       "(1.0881908494922603, 0.7775115402863946)"
      ]
     },
     "execution_count": 14,
     "metadata": {},
     "output_type": "execute_result"
    }
   ],
   "source": [
    "weighted_average_model = WeightedAverageModel(X_train, X_test, y_train, y_test)\n",
    "weighted_average_model.score_on_test_set()"
   ]
  },
  {
   "cell_type": "code",
   "execution_count": 17,
   "id": "698f1d3e-3440-4444-bf07-6fc4c99ca3d2",
   "metadata": {},
   "outputs": [
    {
     "name": "stdout",
     "output_type": "stream",
     "text": [
      "RMSE: 21.447975090551065\n",
      "MAE: 0.931401432802154\n"
     ]
    },
    {
     "data": {
      "text/plain": [
       "(21.447975090551065, 0.931401432802154)"
      ]
     },
     "execution_count": 17,
     "metadata": {},
     "output_type": "execute_result"
    }
   ],
   "source": [
    "weighted_average_model = WeightedAverageModel(X_train, X_test, y_train, y_test, 'pearson')\n",
    "weighted_average_model.score_on_test_set()"
   ]
  },
  {
   "cell_type": "markdown",
   "id": "db48162a-43bb-4491-a089-36bd7ced72d8",
   "metadata": {},
   "source": [
    "# KNN"
   ]
  },
  {
   "cell_type": "code",
   "execution_count": 18,
   "id": "5731ed5b-7fae-4455-8cdb-dce8f1ca0f06",
   "metadata": {},
   "outputs": [],
   "source": [
    "class KnnModel(BaseModel):\n",
    "    \n",
    "    def __init__(self, X_train, X_test, y_train, y_test, similarity='cosine', k=10):\n",
    "        BaseModel.__init__(self, X_train, X_test, y_train, y_test)\n",
    "        \n",
    "        self._k = k        \n",
    "        \n",
    "        self._user_product_matrix = pd.crosstab(X_train.reviewerID, X_train.asin, X_train.overall, aggfunc='max')\n",
    "        \n",
    "        if similarity == 'cosine': \n",
    "            cos_similarity = cosine_similarity(self._user_product_matrix.copy().fillna(0))\n",
    "            self._similarity = pd.DataFrame(cos_similarity, index=self._user_product_matrix.index)\n",
    "            self._similarity.columns = self._user_product_matrix.index\n",
    "        elif similarity == 'pearson':\n",
    "            pea_similarity = np.corrcoef(self._user_product_matrix.copy().fillna(0))\n",
    "            self._similarity = pd.DataFrame(pea_similarity, index=self._user_product_matrix.index)\n",
    "            self._similarity.columns = self._user_product_matrix.index\n",
    "        else:\n",
    "            raise Exception\n",
    "    \n",
    "    def _knn_filtered(self, user_id, product_id, k):\n",
    "        return self._similarity[user_id][~np.isnan(self._user_product_matrix[product_id])].sort_values(ascending=False).head(k)\n",
    "    \n",
    "    def predict(self, user_id, product_id):\n",
    "        if product_id in self._user_product_matrix:\n",
    "            neighbours = self._knn_filtered(user_id, product_id, self._k)\n",
    "\n",
    "            if not len(neighbours):\n",
    "                return 2.5\n",
    "            \n",
    "            ratings = self._user_product_matrix[product_id][neighbours.index.values].to_numpy().astype(float)\n",
    "            weights = neighbours.values.astype(float)\n",
    "            \n",
    "            if weights.sum() != 0:\n",
    "                return np.dot(ratings, weights)/weights.sum()\n",
    "        return 2.5"
   ]
  },
  {
   "cell_type": "code",
   "execution_count": 19,
   "id": "effb7f3b-8eb8-4dcc-be88-cf9676b389be",
   "metadata": {},
   "outputs": [
    {
     "name": "stdout",
     "output_type": "stream",
     "text": [
      "RMSE: 1.09160312713944\n",
      "MAE: 0.7741288942303893\n"
     ]
    },
    {
     "data": {
      "text/plain": [
       "(1.09160312713944, 0.7741288942303893)"
      ]
     },
     "execution_count": 19,
     "metadata": {},
     "output_type": "execute_result"
    }
   ],
   "source": [
    "knn_model = KnnModel(X_train, X_test, y_train, y_test, k=10)\n",
    "knn_model.score_on_test_set()"
   ]
  },
  {
   "cell_type": "code",
   "execution_count": 20,
   "id": "a2705aec-0f31-4fc5-8a22-253f63f48f4d",
   "metadata": {},
   "outputs": [
    {
     "name": "stdout",
     "output_type": "stream",
     "text": [
      "RMSE: 1.096815033741887\n",
      "MAE: 0.7744033588942375\n"
     ]
    },
    {
     "data": {
      "text/plain": [
       "(1.096815033741887, 0.7744033588942375)"
      ]
     },
     "execution_count": 20,
     "metadata": {},
     "output_type": "execute_result"
    }
   ],
   "source": [
    "knn_model = KnnModel(X_train, X_test, y_train, y_test, k=7)\n",
    "knn_model.score_on_test_set()"
   ]
  },
  {
   "cell_type": "code",
   "execution_count": 21,
   "id": "65912919-af72-4fd4-ba18-23a15b22e0be",
   "metadata": {},
   "outputs": [
    {
     "name": "stdout",
     "output_type": "stream",
     "text": [
      "RMSE: 1.106599279533919\n",
      "MAE: 0.7769100476571354\n"
     ]
    },
    {
     "data": {
      "text/plain": [
       "(1.106599279533919, 0.7769100476571354)"
      ]
     },
     "execution_count": 21,
     "metadata": {},
     "output_type": "execute_result"
    }
   ],
   "source": [
    "knn_model = KnnModel(X_train, X_test, y_train, y_test, k=5)\n",
    "knn_model.score_on_test_set()"
   ]
  },
  {
   "cell_type": "code",
   "execution_count": 22,
   "id": "4c69d9dc-4269-4d2b-b67e-fcc9b3bf1126",
   "metadata": {},
   "outputs": [
    {
     "name": "stdout",
     "output_type": "stream",
     "text": [
      "RMSE: 1.134017119333312\n",
      "MAE: 0.7849504376685776\n"
     ]
    },
    {
     "data": {
      "text/plain": [
       "(1.134017119333312, 0.7849504376685776)"
      ]
     },
     "execution_count": 22,
     "metadata": {},
     "output_type": "execute_result"
    }
   ],
   "source": [
    "knn_model = KnnModel(X_train, X_test, y_train, y_test, k=3)\n",
    "knn_model.score_on_test_set()"
   ]
  },
  {
   "cell_type": "code",
   "execution_count": 23,
   "id": "dac3f137-7ef8-4ce0-a36a-5c6455e7c57d",
   "metadata": {},
   "outputs": [
    {
     "name": "stdout",
     "output_type": "stream",
     "text": [
      "RMSE: 1.2996117084359562\n",
      "MAE: 0.8355379383446692\n"
     ]
    },
    {
     "data": {
      "text/plain": [
       "(1.2996117084359562, 0.8355379383446692)"
      ]
     },
     "execution_count": 23,
     "metadata": {},
     "output_type": "execute_result"
    }
   ],
   "source": [
    "knn_model = KnnModel(X_train, X_test, y_train, y_test, k=1)\n",
    "knn_model.score_on_test_set()"
   ]
  },
  {
   "cell_type": "code",
   "execution_count": 25,
   "id": "638ae6ab-6d24-4f44-9b90-55f2d9617196",
   "metadata": {},
   "outputs": [
    {
     "name": "stdout",
     "output_type": "stream",
     "text": [
      "RMSE: 21.67586206074521\n",
      "MAE: 0.903924472946585\n"
     ]
    },
    {
     "data": {
      "text/plain": [
       "(21.67586206074521, 0.903924472946585)"
      ]
     },
     "execution_count": 25,
     "metadata": {},
     "output_type": "execute_result"
    }
   ],
   "source": [
    "knn_model = KnnModel(X_train, X_test, y_train, y_test, 'pearson', k=10)\n",
    "knn_model.score_on_test_set()"
   ]
  },
  {
   "cell_type": "code",
   "execution_count": null,
   "id": "e1bc77bf-1ba4-4e7b-9744-02db240e774c",
   "metadata": {},
   "outputs": [],
   "source": []
  }
 ],
 "metadata": {
  "kernelspec": {
   "display_name": "Python 3 (ipykernel)",
   "language": "python",
   "name": "python3"
  },
  "language_info": {
   "codemirror_mode": {
    "name": "ipython",
    "version": 3
   },
   "file_extension": ".py",
   "mimetype": "text/x-python",
   "name": "python",
   "nbconvert_exporter": "python",
   "pygments_lexer": "ipython3",
   "version": "3.8.12"
  }
 },
 "nbformat": 4,
 "nbformat_minor": 5
}
