{
 "cells": [
  {
   "cell_type": "code",
   "execution_count": 1,
   "id": "d7f491cf-aa3b-4e29-8089-0851d98ff961",
   "metadata": {},
   "outputs": [
    {
     "name": "stderr",
     "output_type": "stream",
     "text": [
      "[nltk_data] Downloading package punkt to\n",
      "[nltk_data]     C:\\Users\\Vincent\\AppData\\Roaming\\nltk_data...\n",
      "[nltk_data]   Package punkt is already up-to-date!\n",
      "[nltk_data] Downloading package averaged_perceptron_tagger to\n",
      "[nltk_data]     C:\\Users\\Vincent\\AppData\\Roaming\\nltk_data...\n",
      "[nltk_data]   Package averaged_perceptron_tagger is already up-to-\n",
      "[nltk_data]       date!\n",
      "[nltk_data] Downloading package wordnet to\n",
      "[nltk_data]     C:\\Users\\Vincent\\AppData\\Roaming\\nltk_data...\n",
      "[nltk_data]   Package wordnet is already up-to-date!\n",
      "[nltk_data] Downloading package stopwords to\n",
      "[nltk_data]     C:\\Users\\Vincent\\AppData\\Roaming\\nltk_data...\n",
      "[nltk_data]   Package stopwords is already up-to-date!\n",
      "[nltk_data] Downloading package omw-1.4 to\n",
      "[nltk_data]     C:\\Users\\Vincent\\AppData\\Roaming\\nltk_data...\n",
      "[nltk_data]   Package omw-1.4 is already up-to-date!\n"
     ]
    }
   ],
   "source": [
    "import os\n",
    "import time\n",
    "from IPython.display import display\n",
    "\n",
    "import pandas as pd\n",
    "import nltk\n",
    "import re\n",
    "import contractions\n",
    "from tqdm import tqdm\n",
    "\n",
    "from nltk.corpus import stopwords, wordnet\n",
    "from nltk.tokenize import word_tokenize\n",
    "from nltk.stem import WordNetLemmatizer\n",
    "\n",
    "nltk.download('punkt')\n",
    "nltk.download('averaged_perceptron_tagger')\n",
    "nltk.download('wordnet')\n",
    "nltk.download('stopwords')\n",
    "nltk.download('omw-1.4')\n",
    "\n",
    "t = time.time()"
   ]
  },
  {
   "cell_type": "code",
   "execution_count": 2,
   "id": "fc2a5448-907b-4da8-84ae-5245850afdc2",
   "metadata": {},
   "outputs": [],
   "source": [
    "def get_wordnet_pos(tag):\n",
    "    if tag.startswith('J'):\n",
    "        return wordnet.ADJ\n",
    "    elif tag.startswith('V'):\n",
    "        return wordnet.VERB\n",
    "    elif tag.startswith('N'):\n",
    "        return wordnet.NOUN\n",
    "    elif tag.startswith('R'):\n",
    "        return wordnet.ADV\n",
    "    else:\n",
    "        return wordnet.NOUN"
   ]
  },
  {
   "cell_type": "code",
   "execution_count": 3,
   "id": "2c1e4f33-7f2c-4df0-8469-c1ac30a0046d",
   "metadata": {},
   "outputs": [],
   "source": [
    "def text_preprocessing(serie, stop_words=True, lemmatization=True):\n",
    "    # lowercase\n",
    "    serie = serie.map(lambda x: x.lower())   \n",
    "\n",
    "    # remove extra newlines\n",
    "    serie = serie.map(lambda x: re.sub(r'[\\r|\\n|\\r\\n]+', ' ', x))\n",
    "\n",
    "    # remove @tag\n",
    "    serie = serie.map(lambda x: re.sub(r'@[\\S]+', '', x))\n",
    "\n",
    "    # remove URL\n",
    "    serie = serie.map(lambda x: re.sub('https?://[\\S]+', '', x))\n",
    "\n",
    "    # remove contractions\n",
    "    serie = serie.map(lambda x: contractions.fix(x).lower())\n",
    "\n",
    "    # remove hashtag and numbers\n",
    "    serie = serie.map(lambda x: re.sub(\"[^a-zA-Z]\", \" \", x))\n",
    "\n",
    "    # tokenization\n",
    "    serie = serie.map(word_tokenize)\n",
    "\n",
    "    if stop_words:        \n",
    "        # remove stop words\n",
    "        stop_words = set(stopwords.words('english'))\n",
    "        serie = serie.map(lambda x: [word for word in x if word not in stop_words])\n",
    "    \n",
    "    if lemmatization:\n",
    "        # lemmatization    \n",
    "        serie = serie.map(nltk.tag.pos_tag)\n",
    "        serie = serie.map(lambda x: [(word, get_wordnet_pos(pos_tag)) for (word, pos_tag) in x])\n",
    "        wordnet_lemmatizer = WordNetLemmatizer()\n",
    "        serie = serie.map(lambda x: [wordnet_lemmatizer.lemmatize(word, tag) for (word, tag) in x])\n",
    "    \n",
    "    serie = serie.map(lambda x: ' '.join(word for word in x))\n",
    "\n",
    "    return serie"
   ]
  },
  {
   "cell_type": "code",
   "execution_count": 4,
   "id": "72d1ee05-ee9f-410e-9ec8-d5d3c3f18a61",
   "metadata": {},
   "outputs": [
    {
     "name": "stderr",
     "output_type": "stream",
     "text": [
      "10it [01:04,  6.47s/it]\n"
     ]
    },
    {
     "data": {
      "text/html": [
       "<div>\n",
       "<style scoped>\n",
       "    .dataframe tbody tr th:only-of-type {\n",
       "        vertical-align: middle;\n",
       "    }\n",
       "\n",
       "    .dataframe tbody tr th {\n",
       "        vertical-align: top;\n",
       "    }\n",
       "\n",
       "    .dataframe thead th {\n",
       "        text-align: right;\n",
       "    }\n",
       "</style>\n",
       "<table border=\"1\" class=\"dataframe\">\n",
       "  <thead>\n",
       "    <tr style=\"text-align: right;\">\n",
       "      <th></th>\n",
       "      <th>overall</th>\n",
       "      <th>reviewerID</th>\n",
       "      <th>asin</th>\n",
       "      <th>reviewText</th>\n",
       "      <th>summary</th>\n",
       "    </tr>\n",
       "  </thead>\n",
       "  <tbody>\n",
       "    <tr>\n",
       "      <th>0</th>\n",
       "      <td>5</td>\n",
       "      <td>A171I27YBM4FL6</td>\n",
       "      <td>0001393774</td>\n",
       "      <td>I love this CD.  So inspiring!</td>\n",
       "      <td>Five Stars</td>\n",
       "    </tr>\n",
       "    <tr>\n",
       "      <th>1</th>\n",
       "      <td>5</td>\n",
       "      <td>A1H1DL4K669VQ9</td>\n",
       "      <td>0001393774</td>\n",
       "      <td>Love it!!  Great seller!</td>\n",
       "      <td>Five Stars</td>\n",
       "    </tr>\n",
       "    <tr>\n",
       "      <th>2</th>\n",
       "      <td>5</td>\n",
       "      <td>A23WIHT5886G36</td>\n",
       "      <td>0001393774</td>\n",
       "      <td>I bought this on cassette tape in the 80's. So...</td>\n",
       "      <td>I bought this on cassette tape in the 80's. ...</td>\n",
       "    </tr>\n",
       "    <tr>\n",
       "      <th>3</th>\n",
       "      <td>5</td>\n",
       "      <td>A3SZNOJP8OL26X</td>\n",
       "      <td>0001393774</td>\n",
       "      <td>as good as i remember back when i bought the o...</td>\n",
       "      <td>Five Stars</td>\n",
       "    </tr>\n",
       "    <tr>\n",
       "      <th>4</th>\n",
       "      <td>5</td>\n",
       "      <td>A3V5XBBT7OZG5G</td>\n",
       "      <td>0001393774</td>\n",
       "      <td>One of my very favourite albums from one of my...</td>\n",
       "      <td>One of my very favourite albums from one of my...</td>\n",
       "    </tr>\n",
       "    <tr>\n",
       "      <th>...</th>\n",
       "      <td>...</td>\n",
       "      <td>...</td>\n",
       "      <td>...</td>\n",
       "      <td>...</td>\n",
       "      <td>...</td>\n",
       "    </tr>\n",
       "    <tr>\n",
       "      <th>4543364</th>\n",
       "      <td>5</td>\n",
       "      <td>A1KCWOF28NPM3M</td>\n",
       "      <td>B01HJG3VZI</td>\n",
       "      <td>Great 5 LP by The Guess Who, love all these al...</td>\n",
       "      <td>Guess Who 5 Pack!</td>\n",
       "    </tr>\n",
       "    <tr>\n",
       "      <th>4543365</th>\n",
       "      <td>5</td>\n",
       "      <td>ASOJC2B605GDG</td>\n",
       "      <td>B01HJG3UQI</td>\n",
       "      <td>Brings back many MEMORIES of a time gone bye.</td>\n",
       "      <td>Five Stars</td>\n",
       "    </tr>\n",
       "    <tr>\n",
       "      <th>4543366</th>\n",
       "      <td>4</td>\n",
       "      <td>A13EWHP1W5X77J</td>\n",
       "      <td>B01HJG3UQI</td>\n",
       "      <td>Her string of albums were really enjoyable to ...</td>\n",
       "      <td>Enjoyable collection of albums</td>\n",
       "    </tr>\n",
       "    <tr>\n",
       "      <th>4543367</th>\n",
       "      <td>5</td>\n",
       "      <td>A1QN6Z2E6M0S2D</td>\n",
       "      <td>B01HJG3UQI</td>\n",
       "      <td>If you decide to buy this, be sure to hold on ...</td>\n",
       "      <td>A great way to add to your collection</td>\n",
       "    </tr>\n",
       "    <tr>\n",
       "      <th>4543368</th>\n",
       "      <td>5</td>\n",
       "      <td>AF65C8QK9NNXP</td>\n",
       "      <td>B01HJHLNIY</td>\n",
       "      <td>Australian singer songwriter Diesel, otherwise...</td>\n",
       "      <td>Diesel delivers Hank's Dream!</td>\n",
       "    </tr>\n",
       "  </tbody>\n",
       "</table>\n",
       "<p>4543369 rows × 5 columns</p>\n",
       "</div>"
      ],
      "text/plain": [
       "         overall      reviewerID        asin  \\\n",
       "0              5  A171I27YBM4FL6  0001393774   \n",
       "1              5  A1H1DL4K669VQ9  0001393774   \n",
       "2              5  A23WIHT5886G36  0001393774   \n",
       "3              5  A3SZNOJP8OL26X  0001393774   \n",
       "4              5  A3V5XBBT7OZG5G  0001393774   \n",
       "...          ...             ...         ...   \n",
       "4543364        5  A1KCWOF28NPM3M  B01HJG3VZI   \n",
       "4543365        5   ASOJC2B605GDG  B01HJG3UQI   \n",
       "4543366        4  A13EWHP1W5X77J  B01HJG3UQI   \n",
       "4543367        5  A1QN6Z2E6M0S2D  B01HJG3UQI   \n",
       "4543368        5   AF65C8QK9NNXP  B01HJHLNIY   \n",
       "\n",
       "                                                reviewText  \\\n",
       "0                           I love this CD.  So inspiring!   \n",
       "1                                 Love it!!  Great seller!   \n",
       "2        I bought this on cassette tape in the 80's. So...   \n",
       "3        as good as i remember back when i bought the o...   \n",
       "4        One of my very favourite albums from one of my...   \n",
       "...                                                    ...   \n",
       "4543364  Great 5 LP by The Guess Who, love all these al...   \n",
       "4543365      Brings back many MEMORIES of a time gone bye.   \n",
       "4543366  Her string of albums were really enjoyable to ...   \n",
       "4543367  If you decide to buy this, be sure to hold on ...   \n",
       "4543368  Australian singer songwriter Diesel, otherwise...   \n",
       "\n",
       "                                                   summary  \n",
       "0                                               Five Stars  \n",
       "1                                               Five Stars  \n",
       "2          I bought this on cassette tape in the 80's. ...  \n",
       "3                                               Five Stars  \n",
       "4        One of my very favourite albums from one of my...  \n",
       "...                                                    ...  \n",
       "4543364                                  Guess Who 5 Pack!  \n",
       "4543365                                         Five Stars  \n",
       "4543366                     Enjoyable collection of albums  \n",
       "4543367              A great way to add to your collection  \n",
       "4543368                      Diesel delivers Hank's Dream!  \n",
       "\n",
       "[4543369 rows x 5 columns]"
      ]
     },
     "execution_count": 4,
     "metadata": {},
     "output_type": "execute_result"
    }
   ],
   "source": [
    "df_list = []\n",
    "chunksize = 500000\n",
    "\n",
    "for df_chunk in tqdm(pd.read_json('data/CDs_and_Vinyl.json', lines=True, chunksize=chunksize)):\n",
    "    df_list.append(df_chunk)\n",
    "    \n",
    "data = pd.concat(df_list)\n",
    "\n",
    "del df_list\n",
    "del df_chunk\n",
    "\n",
    "data = data[['overall', 'reviewerID', 'asin', 'reviewText', 'summary']]\n",
    "data"
   ]
  },
  {
   "cell_type": "code",
   "execution_count": 5,
   "id": "9c3d36b7-0d51-42e5-89b9-ef27b4180409",
   "metadata": {},
   "outputs": [],
   "source": [
    "min_amount_product_mentions = 20\n",
    "min_amount_user_mentions = 20\n",
    "filtered_df = data[['asin', 'reviewerID', 'overall', 'reviewText', 'summary']]\n",
    "    \n",
    "filtered_df = filtered_df.drop_duplicates()    \n",
    "filtered_df = filtered_df[filtered_df['asin'].map(filtered_df['asin'].value_counts()) >= min_amount_product_mentions]\n",
    "filtered_df = filtered_df[filtered_df['reviewerID'].map(filtered_df['reviewerID'].value_counts()) >= min_amount_user_mentions]"
   ]
  },
  {
   "cell_type": "code",
   "execution_count": 6,
   "id": "8db34c58-760e-4d66-89d9-36c98e96ffd5",
   "metadata": {},
   "outputs": [
    {
     "data": {
      "text/plain": [
       "453961"
      ]
     },
     "execution_count": 6,
     "metadata": {},
     "output_type": "execute_result"
    }
   ],
   "source": [
    "len(filtered_df)"
   ]
  },
  {
   "cell_type": "code",
   "execution_count": 7,
   "id": "396ec153-39ae-47dc-bfaa-aef2842a444a",
   "metadata": {},
   "outputs": [
    {
     "data": {
      "text/html": [
       "<div>\n",
       "<style scoped>\n",
       "    .dataframe tbody tr th:only-of-type {\n",
       "        vertical-align: middle;\n",
       "    }\n",
       "\n",
       "    .dataframe tbody tr th {\n",
       "        vertical-align: top;\n",
       "    }\n",
       "\n",
       "    .dataframe thead th {\n",
       "        text-align: right;\n",
       "    }\n",
       "</style>\n",
       "<table border=\"1\" class=\"dataframe\">\n",
       "  <thead>\n",
       "    <tr style=\"text-align: right;\">\n",
       "      <th></th>\n",
       "      <th>asin</th>\n",
       "      <th>reviewerID</th>\n",
       "      <th>overall</th>\n",
       "      <th>reviewText</th>\n",
       "      <th>summary</th>\n",
       "    </tr>\n",
       "  </thead>\n",
       "  <tbody>\n",
       "    <tr>\n",
       "      <th>6</th>\n",
       "      <td>0001393774</td>\n",
       "      <td>A3478QRKQDOPQ2</td>\n",
       "      <td>5</td>\n",
       "      <td>I recall loving his other albums and maybe thi...</td>\n",
       "      <td>forgot but I figured on some of these artists ...</td>\n",
       "    </tr>\n",
       "    <tr>\n",
       "      <th>32</th>\n",
       "      <td>0001393774</td>\n",
       "      <td>A12R54MKO17TW0</td>\n",
       "      <td>5</td>\n",
       "      <td>Keith Green / Songs for the Shepherd:  His pre...</td>\n",
       "      <td>His last album is focused on Praise</td>\n",
       "    </tr>\n",
       "    <tr>\n",
       "      <th>37</th>\n",
       "      <td>0001393774</td>\n",
       "      <td>AEKGGV851HY3K</td>\n",
       "      <td>5</td>\n",
       "      <td>Keith Green had a passionate love for Jesus.  ...</td>\n",
       "      <td>Passionate Faith Is Contagious</td>\n",
       "    </tr>\n",
       "    <tr>\n",
       "      <th>117</th>\n",
       "      <td>0005164885</td>\n",
       "      <td>A30M3WWF54M74L</td>\n",
       "      <td>5</td>\n",
       "      <td>Bought to replace original I purchased many ye...</td>\n",
       "      <td>Had to have for Traditional Christmas music co...</td>\n",
       "    </tr>\n",
       "    <tr>\n",
       "      <th>150</th>\n",
       "      <td>0005164885</td>\n",
       "      <td>A3LEN0P07MGJE2</td>\n",
       "      <td>5</td>\n",
       "      <td>I love this CD! It is always part of my Christ...</td>\n",
       "      <td>I Love this CD!</td>\n",
       "    </tr>\n",
       "    <tr>\n",
       "      <th>...</th>\n",
       "      <td>...</td>\n",
       "      <td>...</td>\n",
       "      <td>...</td>\n",
       "      <td>...</td>\n",
       "      <td>...</td>\n",
       "    </tr>\n",
       "    <tr>\n",
       "      <th>4543140</th>\n",
       "      <td>B01HHGAJJ6</td>\n",
       "      <td>A77SH4285YSLC</td>\n",
       "      <td>4</td>\n",
       "      <td>Good job</td>\n",
       "      <td>Four Stars</td>\n",
       "    </tr>\n",
       "    <tr>\n",
       "      <th>4543226</th>\n",
       "      <td>B01HIDSULM</td>\n",
       "      <td>A1AGFKZFJKFNFB</td>\n",
       "      <td>5</td>\n",
       "      <td>Luv my Heart</td>\n",
       "      <td>Five Stars</td>\n",
       "    </tr>\n",
       "    <tr>\n",
       "      <th>4543228</th>\n",
       "      <td>B01HIDSULM</td>\n",
       "      <td>A37NSW719W1HVV</td>\n",
       "      <td>5</td>\n",
       "      <td>Ann's still got it ... and I doubt very seriou...</td>\n",
       "      <td>Still got it ...</td>\n",
       "    </tr>\n",
       "    <tr>\n",
       "      <th>4543263</th>\n",
       "      <td>B01HIE1OYQ</td>\n",
       "      <td>A1LRS1JGPULB5G</td>\n",
       "      <td>5</td>\n",
       "      <td>I first heard of these guys was when I picked ...</td>\n",
       "      <td>ABSOLUTELY FANTASTIC</td>\n",
       "    </tr>\n",
       "    <tr>\n",
       "      <th>4543359</th>\n",
       "      <td>B01HJG3VZI</td>\n",
       "      <td>A1B26TNQEWHQ4K</td>\n",
       "      <td>5</td>\n",
       "      <td>Really good fun quality stuff</td>\n",
       "      <td>5fer</td>\n",
       "    </tr>\n",
       "  </tbody>\n",
       "</table>\n",
       "<p>453866 rows × 5 columns</p>\n",
       "</div>"
      ],
      "text/plain": [
       "               asin      reviewerID  overall  \\\n",
       "6        0001393774  A3478QRKQDOPQ2        5   \n",
       "32       0001393774  A12R54MKO17TW0        5   \n",
       "37       0001393774   AEKGGV851HY3K        5   \n",
       "117      0005164885  A30M3WWF54M74L        5   \n",
       "150      0005164885  A3LEN0P07MGJE2        5   \n",
       "...             ...             ...      ...   \n",
       "4543140  B01HHGAJJ6   A77SH4285YSLC        4   \n",
       "4543226  B01HIDSULM  A1AGFKZFJKFNFB        5   \n",
       "4543228  B01HIDSULM  A37NSW719W1HVV        5   \n",
       "4543263  B01HIE1OYQ  A1LRS1JGPULB5G        5   \n",
       "4543359  B01HJG3VZI  A1B26TNQEWHQ4K        5   \n",
       "\n",
       "                                                reviewText  \\\n",
       "6        I recall loving his other albums and maybe thi...   \n",
       "32       Keith Green / Songs for the Shepherd:  His pre...   \n",
       "37       Keith Green had a passionate love for Jesus.  ...   \n",
       "117      Bought to replace original I purchased many ye...   \n",
       "150      I love this CD! It is always part of my Christ...   \n",
       "...                                                    ...   \n",
       "4543140                                           Good job   \n",
       "4543226                                       Luv my Heart   \n",
       "4543228  Ann's still got it ... and I doubt very seriou...   \n",
       "4543263  I first heard of these guys was when I picked ...   \n",
       "4543359                      Really good fun quality stuff   \n",
       "\n",
       "                                                   summary  \n",
       "6        forgot but I figured on some of these artists ...  \n",
       "32                     His last album is focused on Praise  \n",
       "37                          Passionate Faith Is Contagious  \n",
       "117      Had to have for Traditional Christmas music co...  \n",
       "150                                        I Love this CD!  \n",
       "...                                                    ...  \n",
       "4543140                                         Four Stars  \n",
       "4543226                                         Five Stars  \n",
       "4543228                                   Still got it ...  \n",
       "4543263                               ABSOLUTELY FANTASTIC  \n",
       "4543359                                               5fer  \n",
       "\n",
       "[453866 rows x 5 columns]"
      ]
     },
     "execution_count": 7,
     "metadata": {},
     "output_type": "execute_result"
    }
   ],
   "source": [
    "df = filtered_df[~filtered_df.reviewText.isna()]\n",
    "df"
   ]
  },
  {
   "cell_type": "code",
   "execution_count": 13,
   "id": "adc8f932-6dd7-45e4-8414-e93e003ac4ba",
   "metadata": {},
   "outputs": [],
   "source": [
    "ratings = df.overall.copy()\n",
    "ratings.to_pickle(os.path.join('data', 'CD_ratings.pickle'))"
   ]
  },
  {
   "cell_type": "code",
   "execution_count": 8,
   "id": "d5c89da7-0f9e-42ca-ad25-875ca29813b0",
   "metadata": {},
   "outputs": [
    {
     "name": "stdout",
     "output_type": "stream",
     "text": [
      "0    i recall loving his other albums and maybe this one too forgot but i figured on some of these artists seems like one good album and all good albums especially in christian music seemed when they got into it they stayed into it and so good to double check though if want too but it is a possible very good album because i usually recall if too bad of one and i do not on this one\n",
      "dtype: object\n",
      "0    i recall love his other album and maybe this one too forgot but i figure on some of these artist seem like one good album and all good album especially in christian music seem when they get into it they stay into it and so good to double check though if want too but it be a possible very good album because i usually recall if too bad of one and i do not on this one\n",
      "dtype: object\n",
      "0    recall loving albums maybe one forgot figured artists seems like one good album good albums especially christian music seemed got stayed good double check though want possible good album usually recall bad one one\n",
      "dtype: object\n",
      "0    recall love album maybe one forgot figure artist seem like one good album good album especially christian music seem get stayed good double check though want possible good album usually recall bad one one\n",
      "dtype: object\n"
     ]
    }
   ],
   "source": [
    "pd.set_option('max_colwidth', 400)\n",
    "\n",
    "text = df.loc[6, 'reviewText']\n",
    "for stop_words in [False, True]:\n",
    "    for lemmatization in [False, True]:\n",
    "        print(text_preprocessing(pd.Series([text]), stop_words=stop_words, lemmatization=lemmatization))"
   ]
  },
  {
   "cell_type": "code",
   "execution_count": 9,
   "id": "ffb34508-42c5-4558-a8a4-1fc0ec78a027",
   "metadata": {},
   "outputs": [
    {
     "name": "stdout",
     "output_type": "stream",
     "text": [
      "stop_words: False, lemmatization: False, time: 293.25139474868774\n"
     ]
    },
    {
     "data": {
      "text/plain": [
       "'i recall loving his other albums and maybe this one too forgot but i figured on some of these artists seems like one good album and all good albums especially in christian music seemed when they got into it they stayed into it and so good to double check though if want too but it is a possible very good album because i usually recall if too bad of one and i do not on this one'"
      ]
     },
     "metadata": {},
     "output_type": "display_data"
    },
    {
     "name": "stdout",
     "output_type": "stream",
     "text": [
      "stop_words: False, lemmatization: False, time: 43.14775776863098\n"
     ]
    },
    {
     "data": {
      "text/plain": [
       "'forgot but i figured on some of these artists seems like one good album and all good albums'"
      ]
     },
     "metadata": {},
     "output_type": "display_data"
    },
    {
     "name": "stdout",
     "output_type": "stream",
     "text": [
      "stop_words: False, lemmatization: True, time: 4191.941154956818\n"
     ]
    },
    {
     "data": {
      "text/plain": [
       "'i recall love his other album and maybe this one too forgot but i figure on some of these artist seem like one good album and all good album especially in christian music seem when they get into it they stay into it and so good to double check though if want too but it be a possible very good album because i usually recall if too bad of one and i do not on this one'"
      ]
     },
     "metadata": {},
     "output_type": "display_data"
    },
    {
     "name": "stdout",
     "output_type": "stream",
     "text": [
      "stop_words: False, lemmatization: True, time: 468.08725214004517\n"
     ]
    },
    {
     "data": {
      "text/plain": [
       "'forgot but i figure on some of these artist seem like one good album and all good album'"
      ]
     },
     "metadata": {},
     "output_type": "display_data"
    },
    {
     "name": "stdout",
     "output_type": "stream",
     "text": [
      "stop_words: True, lemmatization: False, time: 293.5798110961914\n"
     ]
    },
    {
     "data": {
      "text/plain": [
       "'recall loving albums maybe one forgot figured artists seems like one good album good albums especially christian music seemed got stayed good double check though want possible good album usually recall bad one one'"
      ]
     },
     "metadata": {},
     "output_type": "display_data"
    },
    {
     "name": "stdout",
     "output_type": "stream",
     "text": [
      "stop_words: True, lemmatization: False, time: 38.40134644508362\n"
     ]
    },
    {
     "data": {
      "text/plain": [
       "'forgot figured artists seems like one good album good albums'"
      ]
     },
     "metadata": {},
     "output_type": "display_data"
    },
    {
     "name": "stdout",
     "output_type": "stream",
     "text": [
      "stop_words: True, lemmatization: True, time: 3023.571521282196\n"
     ]
    },
    {
     "data": {
      "text/plain": [
       "'recall love album maybe one forgot figure artist seem like one good album good album especially christian music seem get stayed good double check though want possible good album usually recall bad one one'"
      ]
     },
     "metadata": {},
     "output_type": "display_data"
    },
    {
     "name": "stdout",
     "output_type": "stream",
     "text": [
      "stop_words: True, lemmatization: True, time: 404.49207043647766\n"
     ]
    },
    {
     "data": {
      "text/plain": [
       "'forgot figured artist seem like one good album good album'"
      ]
     },
     "metadata": {},
     "output_type": "display_data"
    }
   ],
   "source": [
    "for stop_words in [False, True]:\n",
    "    for lemmatization in [False, True]:\n",
    "        unpro_review = df.reviewText.copy()\n",
    "        unpro_summary = df.summary.copy()\n",
    "        \n",
    "        a = time.time()\n",
    "        pro_review = text_preprocessing(unpro_review.astype(str), stop_words=stop_words, lemmatization=lemmatization)\n",
    "        print(f\"stop_words: {stop_words}, lemmatization: {lemmatization}, time: {time.time() - a}\")\n",
    "        display(pro_review[6])\n",
    "        name_file = 'review'\n",
    "        if stop_words:\n",
    "            name_file += '_stop'\n",
    "        if lemmatization:\n",
    "            name_file +='_lem'\n",
    "        pro_review.to_pickle(os.path.join('data', 'CD_' + name_file + '.pickle'))\n",
    "        del pro_review\n",
    "        \n",
    "        a = time.time()\n",
    "        pro_summary = text_preprocessing(unpro_summary.astype(str), stop_words=stop_words, lemmatization=lemmatization)\n",
    "        print(f\"stop_words: {stop_words}, lemmatization: {lemmatization}, time: {time.time() - a}\")\n",
    "        display(pro_summary[6])\n",
    "        name_file = 'summary'\n",
    "        if stop_words:\n",
    "            name_file += '_stop'\n",
    "        if lemmatization:\n",
    "            name_file +='_lem'\n",
    "        pro_summary.to_pickle(os.path.join('data', 'CD_' + name_file + '.pickle'))\n",
    "        del pro_summary"
   ]
  },
  {
   "cell_type": "code",
   "execution_count": 10,
   "id": "ea78a77e-184d-43c6-8751-f6f6d5ffa4ed",
   "metadata": {},
   "outputs": [
    {
     "name": "stdout",
     "output_type": "stream",
     "text": [
      "Execution time : 02:27:31\n"
     ]
    }
   ],
   "source": [
    "print(f\"Execution time : {time.strftime('%H:%M:%S', time.gmtime(time.time()-t))}\")"
   ]
  }
 ],
 "metadata": {
  "kernelspec": {
   "display_name": "Python 3 (ipykernel)",
   "language": "python",
   "name": "python3"
  },
  "language_info": {
   "codemirror_mode": {
    "name": "ipython",
    "version": 3
   },
   "file_extension": ".py",
   "mimetype": "text/x-python",
   "name": "python",
   "nbconvert_exporter": "python",
   "pygments_lexer": "ipython3",
   "version": "3.9.12"
  }
 },
 "nbformat": 4,
 "nbformat_minor": 5
}
