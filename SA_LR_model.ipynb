{
 "cells": [
  {
   "cell_type": "code",
   "execution_count": 15,
   "id": "3286c60a-60e2-4dcb-b5c2-ebfafd464cc2",
   "metadata": {},
   "outputs": [],
   "source": [
    "import os\n",
    "import time\n",
    "import pickle\n",
    "\n",
    "import matplotlib.pyplot as plt\n",
    "import numpy as np\n",
    "import pandas as pd\n",
    "from tqdm import tqdm\n",
    "\n",
    "from sklearn import metrics\n",
    "from sklearn.feature_extraction.text import CountVectorizer, TfidfVectorizer, TfidfTransformer\n",
    "from sklearn.model_selection import GridSearchCV, train_test_split\n",
    "from sklearn.linear_model import LogisticRegression\n",
    "from sklearn.pipeline import Pipeline\n",
    "from sklearn.preprocessing import StandardScaler\n",
    "\n",
    "t = time.time()"
   ]
  },
  {
   "cell_type": "code",
   "execution_count": 2,
   "id": "4a8a6435-5ef6-45ed-8831-dfcec83d57c3",
   "metadata": {},
   "outputs": [
    {
     "data": {
      "text/plain": [
       "6          recall love album maybe one forgot figure arti...\n",
       "32         keith green song shepherd previous album focus...\n",
       "37         keith green passionate love jesus evident life...\n",
       "117        buy replace original purchase many year ago so...\n",
       "150        love cd always part christmas music drive rhyt...\n",
       "                                 ...                        \n",
       "4543140                                             good job\n",
       "4543226                                           love heart\n",
       "4543228    ann still get doubt seriously ever ever lose v...\n",
       "4543263    first hear guy pick ocean avenue three album g...\n",
       "4543359                        really good fun quality stuff\n",
       "Name: reviewText, Length: 453866, dtype: object"
      ]
     },
     "execution_count": 2,
     "metadata": {},
     "output_type": "execute_result"
    }
   ],
   "source": [
    "review = pd.read_pickle('data/CD_review_stop_lem.pickle')\n",
    "review"
   ]
  },
  {
   "cell_type": "code",
   "execution_count": 3,
   "id": "9c43e292-c179-4a59-a4ff-e3f0d9830da4",
   "metadata": {},
   "outputs": [
    {
     "data": {
      "text/plain": [
       "6          5\n",
       "32         5\n",
       "37         5\n",
       "117        5\n",
       "150        5\n",
       "          ..\n",
       "4543140    4\n",
       "4543226    5\n",
       "4543228    5\n",
       "4543263    5\n",
       "4543359    5\n",
       "Name: overall, Length: 453866, dtype: int64"
      ]
     },
     "execution_count": 3,
     "metadata": {},
     "output_type": "execute_result"
    }
   ],
   "source": [
    "ratings = pd.read_pickle('data/CD_ratings.pickle')\n",
    "ratings"
   ]
  },
  {
   "cell_type": "code",
   "execution_count": 4,
   "id": "fd623408-05e2-431f-a0cb-4cd954485217",
   "metadata": {},
   "outputs": [],
   "source": [
    "X = review\n",
    "y = ratings\n",
    "\n",
    "X_train, X_test, y_train, y_test = train_test_split(X, y, stratify=y, test_size=0.25, random_state=42)"
   ]
  },
  {
   "cell_type": "code",
   "execution_count": 5,
   "id": "88ddcc39-c4af-42f8-9a5b-fe36d5611733",
   "metadata": {},
   "outputs": [
    {
     "name": "stdout",
     "output_type": "stream",
     "text": [
      "Performing grid search...\n",
      "pipeline: ['vect', 'tfidf', 'clf']\n",
      "parameters:\n",
      "{'vect__max_df': (0.5, 0.75, 1), 'vect__max_features': (5000, 10000, 50000), 'vect__ngram_range': ((1, 1), (1, 2)), 'tfidf__use_idf': (True, False), 'clf__penalty': ('l1', 'l2'), 'clf__C': array([1.e-04, 1.e-02, 1.e+00, 1.e+02, 1.e+04])}\n",
      "Fitting 5 folds for each of 360 candidates, totalling 1800 fits\n"
     ]
    },
    {
     "name": "stderr",
     "output_type": "stream",
     "text": [
      "C:\\Users\\Vincent\\anaconda3\\envs\\WM-project\\lib\\site-packages\\sklearn\\model_selection\\_validation.py:372: FitFailedWarning: \n",
      "900 fits failed out of a total of 1800.\n",
      "The score on these train-test partitions for these parameters will be set to nan.\n",
      "If these failures are not expected, you can try to debug them by setting error_score='raise'.\n",
      "\n",
      "Below are more details about the failures:\n",
      "--------------------------------------------------------------------------------\n",
      "900 fits failed with the following error:\n",
      "Traceback (most recent call last):\n",
      "  File \"C:\\Users\\Vincent\\anaconda3\\envs\\WM-project\\lib\\site-packages\\sklearn\\model_selection\\_validation.py\", line 680, in _fit_and_score\n",
      "    estimator.fit(X_train, y_train, **fit_params)\n",
      "  File \"C:\\Users\\Vincent\\anaconda3\\envs\\WM-project\\lib\\site-packages\\sklearn\\pipeline.py\", line 394, in fit\n",
      "    self._final_estimator.fit(Xt, y, **fit_params_last_step)\n",
      "  File \"C:\\Users\\Vincent\\anaconda3\\envs\\WM-project\\lib\\site-packages\\sklearn\\linear_model\\_logistic.py\", line 1461, in fit\n",
      "    solver = _check_solver(self.solver, self.penalty, self.dual)\n",
      "  File \"C:\\Users\\Vincent\\anaconda3\\envs\\WM-project\\lib\\site-packages\\sklearn\\linear_model\\_logistic.py\", line 447, in _check_solver\n",
      "    raise ValueError(\n",
      "ValueError: Solver lbfgs supports only 'l2' or 'none' penalties, got l1 penalty.\n",
      "\n",
      "  warnings.warn(some_fits_failed_message, FitFailedWarning)\n",
      "C:\\Users\\Vincent\\anaconda3\\envs\\WM-project\\lib\\site-packages\\sklearn\\model_selection\\_search.py:969: UserWarning: One or more of the test scores are non-finite: [        nan         nan         nan         nan         nan         nan\n",
      "         nan         nan         nan         nan         nan         nan\n",
      "         nan         nan         nan         nan         nan         nan\n",
      "         nan         nan         nan         nan         nan         nan\n",
      "         nan         nan         nan         nan         nan         nan\n",
      "         nan         nan         nan         nan         nan         nan\n",
      " -1.19278878 -1.19278878 -1.19278878 -1.19278878 -1.19278878 -1.19278878\n",
      " -1.19278878 -1.19278878 -1.19278878 -1.19278878 -1.19278878 -1.19278878\n",
      " -1.19278878 -1.19278878 -1.19278878 -1.19278878 -1.19278878 -1.19278878\n",
      " -1.19278878 -1.19278878 -1.19278878 -1.19278878 -1.19278878 -1.19278878\n",
      " -1.19278878 -1.19278878 -1.19278878 -1.19278878 -1.19278878 -1.19278878\n",
      " -1.19278878 -1.19278878 -1.19278878 -1.19278878 -1.19278878 -1.19278878\n",
      "         nan         nan         nan         nan         nan         nan\n",
      "         nan         nan         nan         nan         nan         nan\n",
      "         nan         nan         nan         nan         nan         nan\n",
      "         nan         nan         nan         nan         nan         nan\n",
      "         nan         nan         nan         nan         nan         nan\n",
      "         nan         nan         nan         nan         nan         nan\n",
      " -1.13536275 -1.13354353 -1.14261818 -1.14436777 -1.15031829 -1.16374725\n",
      " -1.13588664 -1.1345123  -1.14341229 -1.14476687 -1.1505507  -1.16391258\n",
      " -1.19278878 -1.19278878 -1.19278878 -1.19278878 -1.19278878 -1.19278878\n",
      " -1.12076205 -1.12032816 -1.12326239 -1.12415542 -1.12520903 -1.13137103\n",
      " -1.12325074 -1.12273283 -1.12563851 -1.12647104 -1.12746254 -1.13308227\n",
      " -1.19278878 -1.19278878 -1.19278878 -1.19278878 -1.19278878 -1.19278878\n",
      "         nan         nan         nan         nan         nan         nan\n",
      "         nan         nan         nan         nan         nan         nan\n",
      "         nan         nan         nan         nan         nan         nan\n",
      "         nan         nan         nan         nan         nan         nan\n",
      "         nan         nan         nan         nan         nan         nan\n",
      "         nan         nan         nan         nan         nan         nan\n",
      " -0.88580262 -0.87448112 -0.87537345 -0.858156   -0.87509343 -0.85206504\n",
      " -0.8818552  -0.87575112 -0.87318184 -0.85580084 -0.87373404 -0.84495692\n",
      " -1.19278385 -1.19278262 -1.19277523 -1.19278385 -1.19270134 -1.19275307\n",
      " -0.89472699 -0.88722708 -0.88830374 -0.87192204 -0.89063821 -0.8630143\n",
      " -0.89313241 -0.8857537  -0.8901386  -0.87341938 -0.89039019 -0.86611366\n",
      " -1.19278385 -1.19278262 -1.19277523 -1.19278385 -1.19270134 -1.19275307\n",
      "         nan         nan         nan         nan         nan         nan\n",
      "         nan         nan         nan         nan         nan         nan\n",
      "         nan         nan         nan         nan         nan         nan\n",
      "         nan         nan         nan         nan         nan         nan\n",
      "         nan         nan         nan         nan         nan         nan\n",
      "         nan         nan         nan         nan         nan         nan\n",
      " -0.87541554 -0.8672159  -0.86686466 -0.84690747 -0.8661613  -0.8369087\n",
      " -0.87367306 -0.86488145 -0.86818041 -0.84748461 -0.86395556 -0.82737218\n",
      " -1.19305588 -1.19326517 -1.1934276  -1.19360606 -1.19509476 -1.19466268\n",
      " -0.88624267 -0.87572114 -0.87970892 -0.86102129 -0.87728372 -0.85401271\n",
      " -0.88203917 -0.87716105 -0.88342789 -0.86118571 -0.88009831 -0.85071853\n",
      " -1.19305588 -1.19326517 -1.1934276  -1.19360606 -1.19509476 -1.19466268\n",
      "         nan         nan         nan         nan         nan         nan\n",
      "         nan         nan         nan         nan         nan         nan\n",
      "         nan         nan         nan         nan         nan         nan\n",
      "         nan         nan         nan         nan         nan         nan\n",
      "         nan         nan         nan         nan         nan         nan\n",
      "         nan         nan         nan         nan         nan         nan\n",
      " -0.87670583 -0.86703536 -0.86528478 -0.8461057  -0.86861333 -0.82877044\n",
      " -0.87304115 -0.86864938 -0.86511726 -0.84811053 -0.86419929 -0.83030039\n",
      " -1.1931039  -1.19336734 -1.19364048 -1.19374512 -1.19682653 -1.19631245\n",
      " -0.88377684 -0.87486614 -0.87946112 -0.86479906 -0.87703367 -0.8531608\n",
      " -0.88508224 -0.87551568 -0.88050944 -0.86166296 -0.87979098 -0.84947148\n",
      " -1.1931039  -1.19336734 -1.19364048 -1.19374512 -1.19682653 -1.19631245]\n",
      "  warnings.warn(\n"
     ]
    },
    {
     "name": "stdout",
     "output_type": "stream",
     "text": [
      "done in 40377.061s\n",
      "\n",
      "Best score: -0.827\n",
      "Best parameters set:\n",
      "\tclf__C: 100.0\n",
      "\tclf__penalty: 'l2'\n",
      "\ttfidf__use_idf: True\n",
      "\tvect__max_df: 0.75\n",
      "\tvect__max_features: 50000\n",
      "\tvect__ngram_range: (1, 2)\n"
     ]
    },
    {
     "name": "stderr",
     "output_type": "stream",
     "text": [
      "C:\\Users\\Vincent\\anaconda3\\envs\\WM-project\\lib\\site-packages\\sklearn\\linear_model\\_logistic.py:814: ConvergenceWarning: lbfgs failed to converge (status=1):\n",
      "STOP: TOTAL NO. of ITERATIONS REACHED LIMIT.\n",
      "\n",
      "Increase the number of iterations (max_iter) or scale the data as shown in:\n",
      "    https://scikit-learn.org/stable/modules/preprocessing.html\n",
      "Please also refer to the documentation for alternative solver options:\n",
      "    https://scikit-learn.org/stable/modules/linear_model.html#logistic-regression\n",
      "  n_iter_i = _check_optimize_result(\n"
     ]
    }
   ],
   "source": [
    "pipeline = Pipeline([('vect', CountVectorizer()),\n",
    "                     ('tfidf', TfidfTransformer()),\n",
    "                     ('clf', LogisticRegression())])\n",
    "\n",
    "parameters = {'vect__max_df': (0.5, 0.75, 1),\n",
    "              'vect__max_features': (5000, 10000, 50000), \n",
    "              'vect__ngram_range': ((1,1), (1,2)),\n",
    "              'tfidf__use_idf': (True, False),\n",
    "              'clf__penalty': ('l1', 'l2'), \n",
    "              'clf__C': np.logspace(-4,4,5)\n",
    "}\n",
    "              \n",
    "grid_search = GridSearchCV(pipeline, parameters, scoring='neg_root_mean_squared_error', n_jobs=3, verbose=1)\n",
    "    \n",
    "print(\"Performing grid search...\")\n",
    "print(\"pipeline:\", [name for name, _ in pipeline.steps])\n",
    "print(\"parameters:\")\n",
    "print(parameters)\n",
    "t0 = time.time()\n",
    "grid_search = grid_search.fit(X_train, y_train)\n",
    "print(\"done in %0.3fs\" % (time.time() - t0))\n",
    "print()\n",
    "\n",
    "print(\"Best score: %0.3f\" % grid_search.best_score_)\n",
    "print(\"Best parameters set:\")\n",
    "best_parameters = grid_search.best_estimator_.get_params()\n",
    "for param_name in sorted(parameters.keys()):\n",
    "    print(\"\\t%s: %r\" % (param_name, best_parameters[param_name]))         "
   ]
  },
  {
   "cell_type": "code",
   "execution_count": 6,
   "id": "44baa814-aff8-4ac5-a0fd-f540285decd7",
   "metadata": {},
   "outputs": [
    {
     "name": "stdout",
     "output_type": "stream",
     "text": [
      "RMSE: 0.8367922141672468\n"
     ]
    }
   ],
   "source": [
    "y_pred = grid_search.predict(X_test)\n",
    "\n",
    "print(\"RMSE:\", metrics.mean_squared_error(y_test, y_pred, squared=False))"
   ]
  },
  {
   "cell_type": "code",
   "execution_count": 7,
   "id": "7d35ed0d-2a99-4ad7-b43c-abd46fdb4bb1",
   "metadata": {},
   "outputs": [
    {
     "name": "stdout",
     "output_type": "stream",
     "text": [
      "MAE: 0.41173204544052455\n"
     ]
    }
   ],
   "source": [
    "print(\"MAE:\", metrics.mean_absolute_error(y_test, y_pred))"
   ]
  },
  {
   "cell_type": "code",
   "execution_count": 12,
   "id": "5cb06f17-faa0-468a-bede-288abe7bccf5",
   "metadata": {},
   "outputs": [
    {
     "data": {
      "text/plain": [
       "<sklearn.metrics._plot.confusion_matrix.ConfusionMatrixDisplay at 0x1bc2cf805b0>"
      ]
     },
     "execution_count": 12,
     "metadata": {},
     "output_type": "execute_result"
    },
    {
     "data": {
      "image/png": "[encoded data removed]",
      "text/plain": [
       "<Figure size 432x288 with 2 Axes>"
      ]
     },
     "metadata": {
      "needs_background": "light"
     },
     "output_type": "display_data"
    }
   ],
   "source": [
    "display = metrics.ConfusionMatrixDisplay(metrics.confusion_matrix(y_test, y_pred))\n",
    "display.plot()"
   ]
  },
  {
   "cell_type": "code",
   "execution_count": 16,
   "id": "30fd192a-4be1-41d0-84b3-c3abd8d4972a",
   "metadata": {},
   "outputs": [],
   "source": [
    "outfile = open('results/LR_results.pickle', 'wb')\n",
    "pickle.dump(y_pred, outfile)\n",
    "outfile.close()"
   ]
  },
  {
   "cell_type": "code",
   "execution_count": 8,
   "id": "acba2cbf-2ef1-4a49-8d84-4ef66a34afdc",
   "metadata": {},
   "outputs": [
    {
     "name": "stdout",
     "output_type": "stream",
     "text": [
      "Execution time : 11:13:13\n"
     ]
    }
   ],
   "source": [
    "print(f\"Execution time : {time.strftime('%H:%M:%S', time.gmtime(time.time()-t))}\")"
   ]
  }
 ],
 "metadata": {
  "kernelspec": {
   "display_name": "Python 3 (ipykernel)",
   "language": "python",
   "name": "python3"
  },
  "language_info": {
   "codemirror_mode": {
    "name": "ipython",
    "version": 3
   },
   "file_extension": ".py",
   "mimetype": "text/x-python",
   "name": "python",
   "nbconvert_exporter": "python",
   "pygments_lexer": "ipython3",
   "version": "3.9.12"
  }
 },
 "nbformat": 4,
 "nbformat_minor": 5
}
