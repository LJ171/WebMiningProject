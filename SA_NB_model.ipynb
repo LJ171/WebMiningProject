{
 "cells": [
  {
   "cell_type": "code",
   "execution_count": 1,
   "id": "7162bb42-a84b-4ca9-8430-3321d90ba227",
   "metadata": {},
   "outputs": [],
   "source": [
    "import os\n",
    "import time\n",
    "\n",
    "import matplotlib.pyplot as plt\n",
    "import numpy as np\n",
    "import pandas as pd\n",
    "from tqdm import tqdm\n",
    "\n",
    "from sklearn import metrics\n",
    "from sklearn.feature_extraction.text import CountVectorizer, TfidfVectorizer, TfidfTransformer\n",
    "from sklearn.model_selection import GridSearchCV, train_test_split\n",
    "from sklearn.naive_bayes import GaussianNB, MultinomialNB\n",
    "from sklearn.pipeline import Pipeline\n",
    "from sklearn.preprocessing import StandardScaler\n",
    "\n",
    "t = time.time()"
   ]
  },
  {
   "cell_type": "code",
   "execution_count": 2,
   "id": "790a5470-5b29-4ca5-aa3e-b9007ec2579e",
   "metadata": {},
   "outputs": [
    {
     "data": {
      "text/plain": [
       "6          recall love album maybe one forgot figure arti...\n",
       "32         keith green song shepherd previous album focus...\n",
       "37         keith green passionate love jesus evident life...\n",
       "117        buy replace original purchase many year ago so...\n",
       "150        love cd always part christmas music drive rhyt...\n",
       "                                 ...                        \n",
       "4543140                                             good job\n",
       "4543226                                           love heart\n",
       "4543228    ann still get doubt seriously ever ever lose v...\n",
       "4543263    first hear guy pick ocean avenue three album g...\n",
       "4543359                        really good fun quality stuff\n",
       "Name: reviewText, Length: 453866, dtype: object"
      ]
     },
     "execution_count": 2,
     "metadata": {},
     "output_type": "execute_result"
    }
   ],
   "source": [
    "review = pd.read_pickle('data/CD_review_stop_lem.pickle')\n",
    "review"
   ]
  },
  {
   "cell_type": "code",
   "execution_count": 3,
   "id": "7a42cb1f-962d-42be-b487-0c6d05583781",
   "metadata": {},
   "outputs": [
    {
     "data": {
      "text/plain": [
       "6          5\n",
       "32         5\n",
       "37         5\n",
       "117        5\n",
       "150        5\n",
       "          ..\n",
       "4543140    4\n",
       "4543226    5\n",
       "4543228    5\n",
       "4543263    5\n",
       "4543359    5\n",
       "Name: overall, Length: 453866, dtype: int64"
      ]
     },
     "execution_count": 3,
     "metadata": {},
     "output_type": "execute_result"
    }
   ],
   "source": [
    "ratings = pd.read_pickle('data/CD_ratings.pickle')\n",
    "ratings"
   ]
  },
  {
   "cell_type": "code",
   "execution_count": 4,
   "id": "766dfcde-b4ac-498b-99f7-c3da1686690d",
   "metadata": {},
   "outputs": [],
   "source": [
    "X = review\n",
    "y = ratings\n",
    "\n",
    "X_train, X_test, y_train, y_test = train_test_split(X, y, stratify=y, test_size=0.25, random_state=42)"
   ]
  },
  {
   "cell_type": "code",
   "execution_count": 5,
   "id": "5037c02c-ffad-4ebd-86b0-72675e9cbbf0",
   "metadata": {},
   "outputs": [
    {
     "name": "stdout",
     "output_type": "stream",
     "text": [
      "Performing grid search...\n",
      "pipeline: ['vect', 'tfidf', 'clf']\n",
      "parameters:\n",
      "{'vect__max_df': (0.5, 0.75, 1), 'vect__max_features': (5000, 10000, 50000), 'vect__ngram_range': ((1, 1), (1, 2)), 'tfidf__use_idf': (True, False), 'clf__alpha': [0.001, 0.01, 0.1, 0.2, 0.5, 1]}\n",
      "Fitting 5 folds for each of 216 candidates, totalling 1080 fits\n",
      "done in 21469.413s\n",
      "\n",
      "Best score: -0.993\n",
      "Best parameters set:\n",
      "\tclf__alpha: 0.01\n",
      "\ttfidf__use_idf: True\n",
      "\tvect__max_df: 0.5\n",
      "\tvect__max_features: 50000\n",
      "\tvect__ngram_range: (1, 2)\n"
     ]
    }
   ],
   "source": [
    "pipeline = Pipeline([('vect', CountVectorizer()),\n",
    "                     ('tfidf', TfidfTransformer()),\n",
    "                     ('clf', MultinomialNB())])\n",
    "\n",
    "parameters = {'vect__max_df': (0.5, 0.75, 1),\n",
    "              'vect__max_features': (5000, 10000, 50000), \n",
    "              'vect__ngram_range': ((1,1), (1,2)),\n",
    "              'tfidf__use_idf': (True, False),\n",
    "              'clf__alpha': [0.001, 0.01, 0.1, 0.2, 0.5, 1]\n",
    "}\n",
    "              \n",
    "grid_search = GridSearchCV(pipeline, parameters, scoring='neg_root_mean_squared_error', n_jobs=3, verbose=1)\n",
    "    \n",
    "print(\"Performing grid search...\")\n",
    "print(\"pipeline:\", [name for name, _ in pipeline.steps])\n",
    "print(\"parameters:\")\n",
    "print(parameters)\n",
    "t0 = time.time()\n",
    "grid_search = grid_search.fit(X_train, y_train)\n",
    "print(\"done in %0.3fs\" % (time.time() - t0))\n",
    "print()\n",
    "\n",
    "print(\"Best score: %0.3f\" % grid_search.best_score_)\n",
    "print(\"Best parameters set:\")\n",
    "best_parameters = grid_search.best_estimator_.get_params()\n",
    "for param_name in sorted(parameters.keys()):\n",
    "    print(\"\\t%s: %r\" % (param_name, best_parameters[param_name]))         "
   ]
  },
  {
   "cell_type": "code",
   "execution_count": 6,
   "id": "0048a2a1-b77c-4da4-ab56-b770ceb90675",
   "metadata": {},
   "outputs": [
    {
     "name": "stdout",
     "output_type": "stream",
     "text": [
      "RMSE: 0.9905117119388835\n"
     ]
    }
   ],
   "source": [
    "y_pred = grid_search.predict(X_test)\n",
    "\n",
    "print(\"RMSE:\", metrics.mean_squared_error(y_test, y_pred, squared=False))"
   ]
  },
  {
   "cell_type": "code",
   "execution_count": 7,
   "id": "7e87fff3-a86c-4cc8-884e-e508e0cafc03",
   "metadata": {},
   "outputs": [
    {
     "name": "stdout",
     "output_type": "stream",
     "text": [
      "MAE: 0.500691831105079\n"
     ]
    }
   ],
   "source": [
    "print(\"MAE:\", metrics.mean_absolute_error(y_test, y_pred))"
   ]
  },
  {
   "cell_type": "code",
   "execution_count": 8,
   "id": "dc896b58-819a-4c19-961e-1dd90c5976b5",
   "metadata": {},
   "outputs": [
    {
     "name": "stdout",
     "output_type": "stream",
     "text": [
      "Execution time : 05:58:06\n"
     ]
    }
   ],
   "source": [
    "print(f\"Execution time : {time.strftime('%H:%M:%S', time.gmtime(time.time()-t))}\")"
   ]
  }
 ],
 "metadata": {
  "kernelspec": {
   "display_name": "Python 3 (ipykernel)",
   "language": "python",
   "name": "python3"
  },
  "language_info": {
   "codemirror_mode": {
    "name": "ipython",
    "version": 3
   },
   "file_extension": ".py",
   "mimetype": "text/x-python",
   "name": "python",
   "nbconvert_exporter": "python",
   "pygments_lexer": "ipython3",
   "version": "3.9.12"
  }
 },
 "nbformat": 4,
 "nbformat_minor": 5
}
