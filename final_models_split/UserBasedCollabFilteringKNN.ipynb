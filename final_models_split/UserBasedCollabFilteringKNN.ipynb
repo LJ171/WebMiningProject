{
 "cells": [
  {
   "cell_type": "code",
   "execution_count": 1,
   "id": "461aaf4c-e1c4-4aae-911f-f2237c7f5280",
   "metadata": {},
   "outputs": [],
   "source": [
    "%run helper.ipynb"
   ]
  },
  {
   "cell_type": "code",
   "execution_count": 2,
   "id": "62bd6dc4-4e70-4c0b-8292-bd6b9b8b76d3",
   "metadata": {},
   "outputs": [],
   "source": [
    "import pandas as pd\n",
    "from sklearn.metrics.pairwise import cosine_similarity"
   ]
  },
  {
   "cell_type": "code",
   "execution_count": 3,
   "id": "cc2185a9-5ec5-45d7-b20c-68bbf62a14e4",
   "metadata": {},
   "outputs": [],
   "source": [
    "class UserCollabKnnModel():\n",
    "    \n",
    "    def __init__(self, X_train, y_train, similarity='cosine', k=10):        \n",
    "        X_train['overall'] = y_train\n",
    "        self._user_product_matrix = pd.crosstab(X_train.reviewerID, X_train.asin, X_train.overall, aggfunc='max')\n",
    "        \n",
    "        self._k = k        \n",
    "        \n",
    "        if similarity == 'cosine': \n",
    "            cos_similarity = cosine_similarity(self._user_product_matrix.copy().fillna(0))\n",
    "            self._similarity = pd.DataFrame(cos_similarity, index=self._user_product_matrix.index)\n",
    "            self._similarity.columns = self._user_product_matrix.index\n",
    "        elif similarity == 'pearson':\n",
    "            pea_similarity = np.corrcoef(self._user_product_matrix.copy().fillna(0))\n",
    "            self._similarity = pd.DataFrame(pea_similarity, index=self._user_product_matrix.index)\n",
    "            self._similarity.columns = self._user_product_matrix.index\n",
    "        else:\n",
    "            raise Exception\n",
    "            \n",
    "    def predict(self, X):\n",
    "        results = np.array([])\n",
    "        for i, row in X.iterrows():\n",
    "            results = np.append(results, self._predict(row))\n",
    "        return results\n",
    "    \n",
    "    def _knn_filtered(self, user_id, product_id, k):\n",
    "        return self._similarity[user_id][~np.isnan(self._user_product_matrix[product_id])].sort_values(ascending=False).head(k)\n",
    "    \n",
    "    def _predict(self, X):\n",
    "        if X['asin'] in self._user_product_matrix and X['reviewerID'] in self._user_product_matrix.index:\n",
    "            neighbours = self._knn_filtered(X['reviewerID'], X['asin'], self._k)\n",
    "\n",
    "            if not len(neighbours):\n",
    "                return 2.5\n",
    "            \n",
    "            ratings = self._user_product_matrix[X['asin']][neighbours.index.values].to_numpy().astype(float)\n",
    "            weights = neighbours.values.astype(float)\n",
    "            \n",
    "            if weights.sum() != 0:\n",
    "                return np.dot(ratings, weights)/weights.sum()\n",
    "        return 2.5"
   ]
  },
  {
   "cell_type": "code",
   "execution_count": 4,
   "id": "fbecda38-9de0-4699-8cd4-3cc26bbd4734",
   "metadata": {},
   "outputs": [],
   "source": [
    "X_train, y_train = load_train(subset_name)\n",
    "X_test, y_test = load_test(subset_name)"
   ]
  },
  {
   "cell_type": "code",
   "execution_count": 5,
   "id": "2e376f4d-8dc1-4eed-959d-d0c66e5a601b",
   "metadata": {},
   "outputs": [
    {
     "name": "stdout",
     "output_type": "stream",
     "text": [
      "RMSE: 1.07327468998795\n",
      "MAE: 0.7464510929652136\n",
      "\n"
     ]
    }
   ],
   "source": [
    "model = UserCollabKnnModel(X_train, y_train)\n",
    "y_pred = model.predict(X_test)\n",
    "print_score(y_test, y_pred)"
   ]
  },
  {
   "cell_type": "code",
   "execution_count": 6,
   "id": "21b3336c-21b6-47a9-8e53-7de5b217118c",
   "metadata": {},
   "outputs": [],
   "source": [
    "save_preds(model, subset_name, y_pred)"
   ]
  },
  {
   "cell_type": "code",
   "execution_count": null,
   "id": "0edf5992-1094-4aed-b557-07ef365bf08e",
   "metadata": {},
   "outputs": [],
   "source": [
    "%run helper.ipynb\n",
    "for u in user_ids:\n",
    "    save_preds(model, subset_name, model.predict(get_user_pred_data(u, subset_name)), f=u)"
   ]
  },
  {
   "cell_type": "code",
   "execution_count": null,
   "id": "377b2c02-edbb-40ae-8018-6e53bcf4c2c8",
   "metadata": {},
   "outputs": [],
   "source": []
  }
 ],
 "metadata": {
  "kernelspec": {
   "display_name": "Python 3 (ipykernel)",
   "language": "python",
   "name": "python3"
  },
  "language_info": {
   "codemirror_mode": {
    "name": "ipython",
    "version": 3
   },
   "file_extension": ".py",
   "mimetype": "text/x-python",
   "name": "python",
   "nbconvert_exporter": "python",
   "pygments_lexer": "ipython3",
   "version": "3.8.12"
  }
 },
 "nbformat": 4,
 "nbformat_minor": 5
}
