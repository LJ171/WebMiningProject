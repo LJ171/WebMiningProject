{
 "cells": [
  {
   "cell_type": "code",
   "execution_count": 10,
   "id": "e099c65c-6ec6-4af2-ba4d-f51afe3352be",
   "metadata": {},
   "outputs": [],
   "source": [
    "%run helper.ipynb"
   ]
  },
  {
   "cell_type": "code",
   "execution_count": 11,
   "id": "e90215dd-1867-498e-8c9d-87a6db60f181",
   "metadata": {},
   "outputs": [],
   "source": [
    "from sklearn.feature_extraction.text import CountVectorizer, TfidfVectorizer, TfidfTransformer\n",
    "from sklearn.metrics.pairwise import cosine_similarity\n",
    "from sklearn.pipeline import Pipeline\n",
    "from sklearn.svm import SVC\n",
    "from sklearn.naive_bayes import GaussianNB, MultinomialNB\n",
    "from sklearn.linear_model import LogisticRegression"
   ]
  },
  {
   "cell_type": "code",
   "execution_count": 12,
   "id": "f210cf56-7a18-4c3a-abd0-379db8032da1",
   "metadata": {},
   "outputs": [],
   "source": [
    "class SentimentAnalysisSVM:\n",
    "    \n",
    "    def __init__(self, X_train, y_train):\n",
    "        self._pipeline = Pipeline([('vect', CountVectorizer()),\n",
    "                     ('tfidf', TfidfTransformer()),\n",
    "                     ('clf', SVC())])\n",
    "\n",
    "        self._pipeline.fit(X_train['sentence'], y_train)\n",
    "        \n",
    "    \n",
    "    def predict(self, X):\n",
    "        return self._pipeline.predict(X['sentence'])"
   ]
  },
  {
   "cell_type": "code",
   "execution_count": 13,
   "id": "f27b053a-5271-46fc-9966-04c755600868",
   "metadata": {},
   "outputs": [],
   "source": [
    "class SentimentAnalysisNB:\n",
    "    \n",
    "    def __init__(self, X_train, y_train):\n",
    "        self._pipeline = Pipeline([('vect', CountVectorizer(max_df=0.75, max_features=50000, ngram_range=(1,2))),\n",
    "                     ('tfidf', TfidfTransformer(use_idf=True)),\n",
    "                     ('clf', MultinomialNB(alpha=0.01))])\n",
    "\n",
    "        self._pipeline.fit(X_train['sentence'], y_train)\n",
    "        \n",
    "    \n",
    "    def predict(self, X):\n",
    "        return self._pipeline.predict(X['sentence'])"
   ]
  },
  {
   "cell_type": "code",
   "execution_count": 14,
   "id": "8bdea56e-d9f1-4d99-8850-e39f3e02e562",
   "metadata": {},
   "outputs": [],
   "source": [
    "class SentimentAnalysisLR:\n",
    "    \n",
    "    def __init__(self, X_train, y_train):\n",
    "        self._pipeline = Pipeline([('vect', CountVectorizer(max_df=0.5, max_features=50000, ngram_range=(1,2))),\n",
    "                     ('tfidf', TfidfTransformer(use_idf=True)),\n",
    "                     ('clf', LogisticRegression(C=100, penalty='l2'))])\n",
    "\n",
    "        self._pipeline.fit(X_train['sentence'], y_train)\n",
    "        \n",
    "    \n",
    "    def predict(self, X):\n",
    "        return self._pipeline.predict(X['sentence'])"
   ]
  },
  {
   "cell_type": "code",
   "execution_count": 15,
   "id": "6f4b14b6-209a-4a8e-b093-072fe5afe711",
   "metadata": {},
   "outputs": [],
   "source": [
    "X_train_sa, y_train_sa = load_train_sa(subset_name)\n",
    "X_test, y_test = load_test(subset_name)"
   ]
  },
  {
   "cell_type": "code",
   "execution_count": 16,
   "id": "89e9689e-47cf-453d-85a1-552c35c192ec",
   "metadata": {},
   "outputs": [
    {
     "name": "stdout",
     "output_type": "stream",
     "text": [
      "RMSE: 0.9478271254814521\n",
      "MAE: 0.45716685330347145\n",
      "\n",
      "RMSE: 0.9096964286976279\n",
      "MAE: 0.4479283314669653\n",
      "\n"
     ]
    },
    {
     "name": "stderr",
     "output_type": "stream",
     "text": [
      "C:\\Users\\larsj\\anaconda3\\envs\\thesis\\lib\\site-packages\\sklearn\\linear_model\\_logistic.py:814: ConvergenceWarning: lbfgs failed to converge (status=1):\n",
      "STOP: TOTAL NO. of ITERATIONS REACHED LIMIT.\n",
      "\n",
      "Increase the number of iterations (max_iter) or scale the data as shown in:\n",
      "    https://scikit-learn.org/stable/modules/preprocessing.html\n",
      "Please also refer to the documentation for alternative solver options:\n",
      "    https://scikit-learn.org/stable/modules/linear_model.html#logistic-regression\n",
      "  n_iter_i = _check_optimize_result(\n"
     ]
    },
    {
     "name": "stdout",
     "output_type": "stream",
     "text": [
      "RMSE: 0.7680270968530732\n",
      "MAE: 0.35750279955207165\n",
      "\n"
     ]
    }
   ],
   "source": [
    "sa_model = SentimentAnalysisSVM(X_train_sa, y_train_sa)\n",
    "y_pred_sa = sa_model.predict(X_test)\n",
    "print_score(y_test, y_pred_sa)\n",
    "\n",
    "sa_model = SentimentAnalysisNB(X_train_sa, y_train_sa)\n",
    "y_pred_sa = sa_model.predict(X_test)\n",
    "print_score(y_test, y_pred_sa)\n",
    "\n",
    "sa_model = SentimentAnalysisLR(X_train_sa, y_train_sa)\n",
    "y_pred_sa = sa_model.predict(X_test)\n",
    "print_score(y_test, y_pred_sa)\n"
   ]
  },
  {
   "cell_type": "code",
   "execution_count": null,
   "id": "f6b27d71-a889-416b-8c3e-3c381552d6c0",
   "metadata": {},
   "outputs": [],
   "source": []
  }
 ],
 "metadata": {
  "kernelspec": {
   "display_name": "Python 3 (ipykernel)",
   "language": "python",
   "name": "python3"
  },
  "language_info": {
   "codemirror_mode": {
    "name": "ipython",
    "version": 3
   },
   "file_extension": ".py",
   "mimetype": "text/x-python",
   "name": "python",
   "nbconvert_exporter": "python",
   "pygments_lexer": "ipython3",
   "version": "3.8.12"
  }
 },
 "nbformat": 4,
 "nbformat_minor": 5
}
