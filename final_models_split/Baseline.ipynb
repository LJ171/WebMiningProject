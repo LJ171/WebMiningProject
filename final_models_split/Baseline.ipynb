{
 "cells": [
  {
   "cell_type": "code",
   "execution_count": 1,
   "id": "816fcdf4-530f-4b2a-885c-3ba399acec38",
   "metadata": {},
   "outputs": [],
   "source": [
    "%run helper.ipynb"
   ]
  },
  {
   "cell_type": "code",
   "execution_count": 2,
   "id": "0eabecc3-2581-435c-9fee-80562a55c657",
   "metadata": {},
   "outputs": [],
   "source": [
    "class BaseModel:\n",
    "    \n",
    "    def predict(self, X):\n",
    "        return np.array([2.5] * len(X))"
   ]
  },
  {
   "cell_type": "code",
   "execution_count": 3,
   "id": "c23de3fd-77bd-4ff3-b93b-a12537603093",
   "metadata": {},
   "outputs": [],
   "source": [
    "X_train, y_train = load_train(subset_name)\n",
    "X_test, y_test = load_test(subset_name)"
   ]
  },
  {
   "cell_type": "code",
   "execution_count": 4,
   "id": "62d6db72-d800-434d-9266-4112121c03b0",
   "metadata": {},
   "outputs": [
    {
     "name": "stdout",
     "output_type": "stream",
     "text": [
      "RMSE: 2.0192938350782974\n",
      "MAE: 1.8818589025755879\n",
      "\n"
     ]
    }
   ],
   "source": [
    "model = BaseModel()\n",
    "y_pred = model.predict(X_test)\n",
    "print_score(y_test, y_pred)"
   ]
  },
  {
   "cell_type": "code",
   "execution_count": 5,
   "id": "6ebb7e3c-f8ad-4a0b-8b00-cd42679116c6",
   "metadata": {},
   "outputs": [],
   "source": [
    "save_preds(model, subset_name, y_pred)"
   ]
  },
  {
   "cell_type": "code",
   "execution_count": null,
   "id": "d04c2f9b-ae1b-4fb0-9744-3502339f61e4",
   "metadata": {},
   "outputs": [],
   "source": []
  }
 ],
 "metadata": {
  "kernelspec": {
   "display_name": "Python 3 (ipykernel)",
   "language": "python",
   "name": "python3"
  },
  "language_info": {
   "codemirror_mode": {
    "name": "ipython",
    "version": 3
   },
   "file_extension": ".py",
   "mimetype": "text/x-python",
   "name": "python",
   "nbconvert_exporter": "python",
   "pygments_lexer": "ipython3",
   "version": "3.8.12"
  }
 },
 "nbformat": 4,
 "nbformat_minor": 5
}
