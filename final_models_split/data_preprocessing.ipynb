{
 "cells": [
  {
   "cell_type": "markdown",
   "id": "33f0d299-3ae5-4f19-82ea-221d87222f34",
   "metadata": {
    "tags": []
   },
   "source": [
    "# Imports"
   ]
  },
  {
   "cell_type": "code",
   "execution_count": 7,
   "id": "7e2ece44-a704-42de-8aa2-1995a3998251",
   "metadata": {},
   "outputs": [],
   "source": [
    "import gzip\n",
    "import json\n",
    "import numpy as np\n",
    "import os\n",
    "import pandas as pd\n",
    "from sklearn.model_selection import train_test_split\n",
    "\n",
    "import re\n",
    "\n",
    "import nltk\n",
    "from nltk.corpus import stopwords, brown\n",
    "from nltk.stem import PorterStemmer, WordNetLemmatizer\n",
    "from nltk.tokenize import word_tokenize, RegexpTokenizer"
   ]
  },
  {
   "cell_type": "code",
   "execution_count": 8,
   "id": "58feeb94-6f96-4cfd-8b90-29de65f6b02f",
   "metadata": {},
   "outputs": [],
   "source": [
    "if not os.path.exists('data'):\n",
    "    %cd .."
   ]
  },
  {
   "cell_type": "code",
   "execution_count": 9,
   "id": "631bd3a4-fc93-4db7-93e1-0bcefb1947a9",
   "metadata": {},
   "outputs": [],
   "source": [
    "%run final_models_split/helper.ipynb"
   ]
  },
  {
   "cell_type": "markdown",
   "id": "b6d1f171-a6dd-43d9-aa1d-34be64e53052",
   "metadata": {},
   "source": [
    "# Data"
   ]
  },
  {
   "cell_type": "code",
   "execution_count": 10,
   "id": "5d3c812e-628c-4176-bd6d-5f823a4af266",
   "metadata": {},
   "outputs": [],
   "source": [
    "STOPWORDS = set(stopwords.words('english'))\n",
    "MIN_WORDS = 4\n",
    "MAX_WORDS = 200\n",
    "\n",
    "PATTERN_S = re.compile(\"\\'s\")  # matches `'s` from text  \n",
    "PATTERN_RN = re.compile(\"\\\\r\\\\n\") #matches `\\r` and `\\n`\n",
    "PATTERN_PUNC = re.compile(r\"[^\\w\\s]\") # matches all non 0-9 A-z whitespace\n",
    "\n",
    "def preprocess_metadata(sentence):\n",
    "    lemmatizer = WordNetLemmatizer()\n",
    "    stemmer = PorterStemmer() \n",
    "    sentence = sentence.lower()\n",
    "    sentence=sentence.replace('{html}',\"\") \n",
    "    cleanr = re.compile('<.*?>')\n",
    "    cleantext = re.sub(cleanr, '', sentence)\n",
    "    rem_url=re.sub(r'http\\S+', '',cleantext)\n",
    "    rem_num = re.sub('[0-9]+', '', rem_url)\n",
    "    tokenizer = RegexpTokenizer(r'\\w+')\n",
    "    tokens = tokenizer.tokenize(rem_num)  \n",
    "    filtered_words = [w for w in tokens if len(w) > 2 if not w in stopwords.words('english')]\n",
    "    stem_words=[stemmer.stem(w) for w in filtered_words]\n",
    "    lemma_words=[lemmatizer.lemmatize(w) for w in stem_words]\n",
    "    return \" \".join(filtered_words)\n",
    "\n",
    "def clean_text(text):\n",
    "    \"\"\"\n",
    "    Series of cleaning. String to lower case, remove non words characters and numbers.\n",
    "        text (str): input text\n",
    "    return (str): modified initial text\n",
    "    \"\"\"\n",
    "    text = text.lower()  # lowercase text\n",
    "    text = re.sub(PATTERN_S, ' ', text)\n",
    "    text = re.sub(PATTERN_RN, ' ', text)\n",
    "    text = re.sub(PATTERN_PUNC, ' ', text)\n",
    "    return text\n",
    "\n",
    "def tokenizer(sentence, min_words=MIN_WORDS, max_words=MAX_WORDS, stopwords=STOPWORDS, lemmatize=True):\n",
    "    \"\"\"\n",
    "    Lemmatize, tokenize, crop and remove stop words.\n",
    "    \"\"\"\n",
    "    if lemmatize:\n",
    "        stemmer = WordNetLemmatizer()\n",
    "        tokens = [stemmer.lemmatize(w) for w in nltk.word_tokenize(sentence)]\n",
    "    else:\n",
    "        tokens = [w for w in word_tokenize(sentence)]\n",
    "    token = [w for w in tokens if (len(w) > min_words and len(w) < max_words\n",
    "                                                        and w not in stopwords)]\n",
    "    return tokens    \n",
    "\n",
    "\n",
    "def clean_sentences(df):\n",
    "    \"\"\"\n",
    "    Remove irrelavant characters (in new column clean_sentence).\n",
    "    Lemmatize, tokenize words into list of words (in new column tok_lem_sentence).\n",
    "    \"\"\"\n",
    "    df['clean_sentence'] = df['sentence'].apply(clean_text)\n",
    "    df['tok_lem_sentence'] = df['clean_sentence'].apply(\n",
    "        lambda x: tokenizer(x, min_words=MIN_WORDS, max_words=MAX_WORDS, stopwords=STOPWORDS, lemmatize=True))\n",
    "    return df\n",
    "\n",
    "def get_data(subset_name, min_amount_product_mentions, min_amount_user_mentions, test_size=0.3, random_state=42):    \n",
    "    if os.path.exists(os.path.join('data', f'{subset_name}_preprocessed.txt')):\n",
    "        print('Loading preprocessed rating data...')\n",
    "        rating_df = pd.read_csv(os.path.join('data', f'{subset_name}_preprocessed.txt'))\n",
    "    else:\n",
    "        print('Loading rating data...')\n",
    "        data = []\n",
    "        with gzip.open(os.path.join('data', f'{subset_name}.json.gz')) as f:\n",
    "            for l in f:\n",
    "                data.append(json.loads(l.strip()))\n",
    "        rating_df = pd.DataFrame.from_dict(data)\n",
    "        \n",
    "        print('Preprocessing rating_df')\n",
    "        rating_df = rating_df[['asin', 'reviewerID', 'overall', 'reviewText']]\n",
    "        rating_df = rating_df.drop_duplicates()    \n",
    "        rating_df = rating_df[rating_df['asin'].map(rating_df['asin'].value_counts()) >= min_amount_product_mentions]\n",
    "        rating_df = rating_df[rating_df['reviewerID'].map(rating_df['reviewerID'].value_counts()) >= min_amount_user_mentions]\n",
    "        rating_df = rating_df[~rating_df.reviewText.isna()]\n",
    "        rating_df = rating_df[~rating_df.overall.isna()]\n",
    "        print(rating_df.shape)\n",
    "        rating_df.rename(columns={'reviewText':'sentence'}, inplace=True)\n",
    "                \n",
    "        print('Cleaning sentences...')\n",
    "        rating_df = clean_sentences(rating_df)\n",
    "        \n",
    "        print('Saving rating_df...')\n",
    "        rating_df.to_csv(os.path.join('data', f'{subset_name}_preprocessed.txt'))\n",
    "    \n",
    "    if os.path.exists(os.path.join('data', f'meta_{subset_name}_preprocessed.txt')):\n",
    "        print('Loading preprocessed meta data...')\n",
    "        meta_df = pd.read_csv(os.path.join('data', f'meta_{subset_name}_preprocessed.txt'))\n",
    "    else:\n",
    "        print('Loading metadata...')\n",
    "        data = []\n",
    "        with gzip.open(os.path.join('data', f'meta_{subset_name}.json.gz')) as f:\n",
    "            for l in f:\n",
    "                data.append(json.loads(l.strip()))\n",
    "        meta_df = pd.DataFrame.from_dict(data)\n",
    "        \n",
    "        meta_df.head(10)\n",
    "        \n",
    "        print('Preprocessing metadata')\n",
    "        meta_df = meta_df[meta_df['asin'].isin(rating_df['asin'].unique())]        \n",
    "        meta_df['category'] = meta_df['category'].astype(str).apply(lambda x: ','.join(map(str, x)))\n",
    "        meta_df['description'] = meta_df['description'].astype(str).apply(lambda x: ','.join(map(str, x)))\n",
    "        meta_df['feature'] = meta_df['feature'].astype(str).apply(lambda x: ','.join(map(str, x)))\n",
    "        meta_df['tech1'] = meta_df['tech1'].astype(str).apply(lambda x: ','.join(map(str, x)))\n",
    "        meta_df['metadata'] = meta_df['category'] + ' ' + meta_df['description'] + ' ' + meta_df['title'] + ' ' + meta_df['feature']+ ' ' + meta_df['tech1']\n",
    "\n",
    "        print('Cleaning metadata...')\n",
    "        meta_df['metadata'] = meta_df['metadata'].map(lambda x:preprocess_metadata(x))\n",
    "               \n",
    "        print('Saving meta_df...')\n",
    "        meta_df.to_csv(os.path.join('data', f'meta_{subset_name}_preprocessed.txt'))   \n",
    "    \n",
    "    meta_df = meta_df[meta_df['metadata'].notnull()]\n",
    "    rating_df = pd.merge(rating_df, meta_df[['asin', 'metadata']], on='asin')\n",
    "    rating_df = rating_df[rating_df['metadata'].notnull()]\n",
    "    # split rating df in half -> half is used for sentiment analysis and the other half for the recommender models\n",
    "    X = rating_df.drop(['overall'], axis=1)\n",
    "    y = rating_df['overall']\n",
    "    \n",
    "    X_rm, X_sa, y_rm, y_sa = train_test_split(X, y, test_size=0.5, stratify=y, random_state=random_state)\n",
    "        \n",
    "    # split data of the sa half for the test set\n",
    "    X_sa, X_test, y_sa, y_test = train_test_split(X_sa, y_sa, test_size=test_size, stratify=y_sa, random_state=random_state)\n",
    "                        \n",
    "    return rating_df, X_rm, X_sa, X_test, y_rm, y_sa, y_test, meta_df"
   ]
  },
  {
   "cell_type": "code",
   "execution_count": 11,
   "id": "394d06c0-dc27-4283-b56e-e203cd048359",
   "metadata": {},
   "outputs": [
    {
     "name": "stdout",
     "output_type": "stream",
     "text": [
      "Loading preprocessed rating data...\n",
      "Loading preprocessed meta data...\n"
     ]
    }
   ],
   "source": [
    "rating_df, X_rm, X_sa, X_test, y_rm, y_sa, y_test, meta_df = get_data(subset_name, min_amount_product_mentions, min_amount_user_mentions)"
   ]
  },
  {
   "cell_type": "code",
   "execution_count": 12,
   "id": "fbed79fb-b557-48df-9016-5f89c56f20c3",
   "metadata": {},
   "outputs": [],
   "source": [
    "meta_df.to_csv(os.path.join('final_models_split', f'meta_{subset_name}.txt'))\n",
    "X_rm.to_csv(os.path.join('final_models_split', f'X_train_{subset_name}.txt'))\n",
    "y_rm.to_csv(os.path.join('final_models_split', f'y_train_{subset_name}.txt'))\n",
    "X_sa.to_csv(os.path.join('final_models_split', f'X_train_sa_{subset_name}.txt'))\n",
    "y_sa.to_csv(os.path.join('final_models_split', f'y_train_sa_{subset_name}.txt'))\n",
    "X_test.to_csv(os.path.join('final_models_split', f'X_test_{subset_name}.txt'))\n",
    "y_test.to_csv(os.path.join('final_models_split', f'y_test_{subset_name}.txt'))"
   ]
  },
  {
   "cell_type": "code",
   "execution_count": null,
   "id": "5e3b0729-b81e-4722-bbb4-8e8afd932a03",
   "metadata": {},
   "outputs": [],
   "source": []
  }
 ],
 "metadata": {
  "kernelspec": {
   "display_name": "Python 3 (ipykernel)",
   "language": "python",
   "name": "python3"
  },
  "language_info": {
   "codemirror_mode": {
    "name": "ipython",
    "version": 3
   },
   "file_extension": ".py",
   "mimetype": "text/x-python",
   "name": "python",
   "nbconvert_exporter": "python",
   "pygments_lexer": "ipython3",
   "version": "3.8.12"
  }
 },
 "nbformat": 4,
 "nbformat_minor": 5
}
