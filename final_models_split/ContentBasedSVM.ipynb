{
 "cells": [
  {
   "cell_type": "code",
   "execution_count": 1,
   "id": "461aaf4c-e1c4-4aae-911f-f2237c7f5280",
   "metadata": {},
   "outputs": [],
   "source": [
    "%run helper.ipynb"
   ]
  },
  {
   "cell_type": "code",
   "execution_count": 2,
   "id": "62bd6dc4-4e70-4c0b-8292-bd6b9b8b76d3",
   "metadata": {},
   "outputs": [],
   "source": [
    "from sklearn.feature_extraction.text import CountVectorizer, TfidfVectorizer, TfidfTransformer\n",
    "from sklearn.metrics.pairwise import cosine_similarity\n",
    "from sklearn.pipeline import Pipeline\n",
    "from sklearn.svm import SVC"
   ]
  },
  {
   "cell_type": "code",
   "execution_count": 3,
   "id": "cc2185a9-5ec5-45d7-b20c-68bbf62a14e4",
   "metadata": {},
   "outputs": [],
   "source": [
    "class ContentBasedSVMModel:\n",
    "    \n",
    "    def __init__(self, X_train, y_train):\n",
    "        self._pipeline = Pipeline([('Vectorizer', CountVectorizer()),\n",
    "                     ('tfidf', TfidfTransformer()),\n",
    "                     ('SVM classifier', SVC())])\n",
    "\n",
    "        self._pipeline.fit(X_train['metadata'], y_train)\n",
    "    \n",
    "    def predict(self, X):\n",
    "        return self._pipeline.predict(X['metadata'])"
   ]
  },
  {
   "cell_type": "code",
   "execution_count": 4,
   "id": "fbecda38-9de0-4699-8cd4-3cc26bbd4734",
   "metadata": {},
   "outputs": [],
   "source": [
    "X_train, y_train = load_train(subset_name)\n",
    "X_test, y_test = load_test(subset_name)"
   ]
  },
  {
   "cell_type": "code",
   "execution_count": 5,
   "id": "2e376f4d-8dc1-4eed-959d-d0c66e5a601b",
   "metadata": {},
   "outputs": [
    {
     "name": "stdout",
     "output_type": "stream",
     "text": [
      "RMSE: 1.21233858209082\n",
      "MAE: 0.7172452407614781\n",
      "\n"
     ]
    }
   ],
   "source": [
    "model = ContentBasedSVMModel(X_train, y_train)\n",
    "y_pred = model.predict(X_test)\n",
    "print_score(y_test, y_pred)"
   ]
  },
  {
   "cell_type": "code",
   "execution_count": 6,
   "id": "21b3336c-21b6-47a9-8e53-7de5b217118c",
   "metadata": {},
   "outputs": [],
   "source": [
    "save_preds(model, subset_name, y_pred)"
   ]
  },
  {
   "cell_type": "code",
   "execution_count": null,
   "id": "7d9a26ae-5798-4122-85dd-da87a130c19b",
   "metadata": {},
   "outputs": [],
   "source": [
    "%run helper.ipynb\n",
    "for u in user_ids:\n",
    "    save_preds(model, subset_name, model.predict(get_user_pred_data(u, subset_name)), f=u)"
   ]
  },
  {
   "cell_type": "code",
   "execution_count": null,
   "id": "0a577e6e-4bd9-4730-92e9-7db6d014f9f2",
   "metadata": {},
   "outputs": [],
   "source": []
  }
 ],
 "metadata": {
  "kernelspec": {
   "display_name": "Python 3 (ipykernel)",
   "language": "python",
   "name": "python3"
  },
  "language_info": {
   "codemirror_mode": {
    "name": "ipython",
    "version": 3
   },
   "file_extension": ".py",
   "mimetype": "text/x-python",
   "name": "python",
   "nbconvert_exporter": "python",
   "pygments_lexer": "ipython3",
   "version": "3.8.12"
  }
 },
 "nbformat": 4,
 "nbformat_minor": 5
}
