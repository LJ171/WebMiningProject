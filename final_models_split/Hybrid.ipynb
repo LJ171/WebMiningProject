{
 "cells": [
  {
   "cell_type": "code",
   "execution_count": 1,
   "id": "e070d072-1c35-4ae9-9c39-23552a463a53",
   "metadata": {},
   "outputs": [],
   "source": [
    "%run helper.ipynb"
   ]
  },
  {
   "cell_type": "markdown",
   "id": "00a2fc70-2312-430c-b63d-88fb457377a7",
   "metadata": {},
   "source": [
    "# Disclaimer\n",
    "This isn't the working hybrid model. The goal of this notebook is to emulate the behavior of the actual hybrid model which can be found in 'combined_models.ipynb'. The reason why not the actual model is run is due to not all models fitting into the memory at the same time. "
   ]
  },
  {
   "cell_type": "code",
   "execution_count": 2,
   "id": "5c5fb2d9-4cb2-49c6-9a03-d9dbfee8b024",
   "metadata": {},
   "outputs": [],
   "source": [
    "model_content = 'ContentBasedSVMModel'\n",
    "model_collab = 'UserCollabKnnModel'\n",
    "model_sa = 'UserCollabSentimentWeightedAverageModel'"
   ]
  },
  {
   "cell_type": "code",
   "execution_count": 3,
   "id": "82d54e9e-ebef-4476-af0b-73746669c394",
   "metadata": {},
   "outputs": [],
   "source": [
    "def get_hybrid_predictions(subset_name, model1, model2, model3, f='test'):\n",
    "    model1_pred = pd.read_csv(os.path.join('predictions', f'predictions_{f}-{model1}-{subset_name}.txt'))['0']\n",
    "    model2_pred = pd.read_csv(os.path.join('predictions',f'predictions_{f}-{model2}-{subset_name}.txt'))['0']\n",
    "    model3_pred = pd.read_csv(os.path.join('predictions',f'predictions_{f}-{model3}-{subset_name}.txt'))['0']\n",
    "    return (model1_pred + model2_pred + model3_pred)/3"
   ]
  },
  {
   "cell_type": "code",
   "execution_count": 4,
   "id": "757d2b50-e0d4-4991-a522-6160bd6f02d1",
   "metadata": {},
   "outputs": [
    {
     "name": "stdout",
     "output_type": "stream",
     "text": [
      "RMSE: 1.0318685824601956\n",
      "MAE: 0.715729839170367\n",
      "\n"
     ]
    }
   ],
   "source": [
    "X_test, y_test = load_test(subset_name)\n",
    "y_pred = get_hybrid_predictions(subset_name, model_content, model_collab, model_sa)\n",
    "print_score(y_test, y_pred)"
   ]
  },
  {
   "cell_type": "code",
   "execution_count": 5,
   "id": "203b64cf-6581-4606-8150-0e98e789b11b",
   "metadata": {},
   "outputs": [
    {
     "name": "stdout",
     "output_type": "stream",
     "text": [
      "User A1IKOYZVFHO1XP has previously enjoyed:\n",
      "Toto IV by Toto\n",
      "Journey: Greatest Hits by Journey\n",
      "Fleetwood Mac by Fleetwood Mac\n",
      "Phil Collins - Hits by Phil Collins\n",
      "Brand New Day by Sting\n",
      "Brand New Day by Sting\n",
      "\n",
      "We now recommend him:\n",
      "Daydream by Mariah Carey\n",
      "Gold by Don Williams\n",
      "Gold by Don Williams\n",
      "Lady Antebellum by Lady Antebellum\n",
      "Rock of Ages Soundtrack by Various Artists\n",
      "The Lone Bellow by The Lone Bellow\n",
      "\n",
      "User A2PV6GK1HV54Y9 has previously enjoyed:\n",
      "Grease Original 1978 Motion Picture Soundtrack by Olivia Newton-John\n",
      "Merry Christmas by Mariah Carey\n",
      "Home for Christmas by Amy Grant\n",
      "The Spirit Room by Michelle Branch\n",
      "<span id=\"parentalAdvisory\" class=\"a-size-medium a-color-secondary a-text-normal\" by Yeah Yeah Yeahs\n",
      "Home for Christmas by Amy Grant\n",
      "The Spirit Room by Michelle Branch\n",
      "<span id=\"parentalAdvisory\" class=\"a-size-medium a-color-secondary a-text-normal\" by Yeah Yeah Yeahs\n",
      "\n",
      "We now recommend him:\n",
      "Thriller by Michael Jackson\n",
      "Dances With Wolves Soundtrack by John Barry\n",
      "Celtic Woman by Celtic Woman\n",
      "Nightmare Revisited by Danny Elfman\n",
      "#1 to Infinity by Mariah Carey\n",
      "\n",
      "User A1HCCW38EQQBTY has previously enjoyed:\n",
      "Glitter by Mariah Carey\n",
      "Full Moon by Brandy\n",
      "Glitter by Mariah Carey\n",
      "Full Moon by Brandy\n",
      "Back To Love Deluxe Version by Anthony Hamilton\n",
      "Love, Charlie by Charlie Wilson\n",
      "<span id=\"parentalAdvisory\" class=\"a-size-medium a-color-secondary a-text-normal\" by Chris Brown\n",
      "\n",
      "We now recommend him:\n",
      "Famous Blue Raincoat by Jennifer Warnes\n",
      "Toto IV by Toto\n",
      "Highway to Hell by AC/DC\n",
      "Hot Rocks by The Rolling Stones\n",
      "Psychedelic Pill by Neil Young\n",
      "\n",
      "User A2C7BOQVFH1HLE has previously enjoyed:\n",
      "Rage Against the Machine by Rage Against The Machine\n",
      "Master of Puppets by Metallica\n",
      "Back in Black by AC/DC\n",
      "The Very Best of Deep Purple by Deep Purple\n",
      "America - The Complete Greatest Hits by America\n",
      "The Very Best of Deep Purple by Deep Purple\n",
      "America - The Complete Greatest Hits by America\n",
      "\n",
      "We now recommend him:\n",
      "Captain Beyond Remastered by Captain Beyond\n",
      "Easy Rider: Soundtrack by Various Artists\n",
      "The Producers 2001 Original Broadway Cast by Mel Brooks\n",
      "The Producers 2001 Original Broadway Cast by Mel Brooks\n",
      "Winery Dogs by The Winery Dogs\n",
      "Random Access Memories by Daft Punk\n",
      "\n",
      "User A3O8YT41TDXL0B has previously enjoyed:\n",
      "One Heart by Celine Dion\n",
      "Schizophrenic by J.C. Chasez\n",
      "So-Called Chaos by Alanis Morissette\n",
      "Get Lifted by John Legend\n",
      "The Dana Owens Album by Queen Latifah\n",
      "One Heart by Celine Dion\n",
      "Schizophrenic by J.C. Chasez\n",
      "So-Called Chaos by Alanis Morissette\n",
      "Get Lifted by John Legend\n",
      "The Dana Owens Album by Queen Latifah\n",
      "\n",
      "We now recommend him:\n",
      "Toto IV by Toto\n",
      "Opvs Eponymovs - Purple by Ghost\n",
      "The Classic Christmas Album by Andy Williams\n",
      "My Dream Duets by Barry Manilow\n",
      "Anything Goes by Florida Georgia Line\n",
      "\n",
      "User A26NLSTT75FMJM has previously enjoyed:\n",
      "The Wild, The Innocent &amp; The E Street Shuffle by Bruce Springsteen\n",
      "Houses Of The Holy by Led Zeppelin\n",
      "Let There Be Rock by AC/DC\n",
      "Let There Be Rock by AC/DC\n",
      "The Byrds - Greatest Hits by The Byrds\n",
      "The Byrds - Greatest Hits by The Byrds\n",
      "\n",
      "We now recommend him:\n",
      "Hi Infidelity by REO Speedwagon\n",
      "The King and I by The King And I (Related Recordings)\n",
      "20th Century Masters: The Millennium Collection: Best of Rare Earth by Rare Earth\n",
      "20th Century Masters: The Millennium Collection: Best of Rare Earth by Rare Earth\n",
      "The Capitol Albums Vol. 1 by The Beatles\n",
      "TROLLS Soundtrack by Various Artists\n",
      "\n",
      "User AWPODHOB4GFWL has previously enjoyed:\n",
      "Every Good Boy Deserves Favour by The Moody Blues\n",
      "Dances With Wolves Soundtrack by John Barry\n",
      "HIStory: Past, Present, &amp; Future, Book I by Michael Jackson\n",
      "Hot Rocks by The Rolling Stones\n",
      "Aladdin Sane by David Bowie\n",
      "Aladdin Sane by David Bowie\n",
      "\n",
      "We now recommend him:\n",
      "Master of Puppets by Metallica\n",
      "The Greatest Christmas Novelty of All Time by Dr. Demento\n",
      "NEW KIDS ON THE BLOCK,The Block,Interscope Records,Dance Music,Pop,Pop/Rock Music,Dance - General,Recorded Music - Rock &amp; Pop,Rock &amp; Pop - General\" /> by New Kids On The Block\n",
      "The Hunger Games: Songs from District 12 and Beyond by James Newton Howard\n",
      "Storyteller by Carrie Underwood\n",
      "\n"
     ]
    }
   ],
   "source": [
    "for u in user_ids:\n",
    "    y_pred_u = get_hybrid_predictions(subset_name, model_content, model_collab, model_sa, f=u)\n",
    "    show_recs(u, subset_name, y_pred_u)"
   ]
  },
  {
   "cell_type": "code",
   "execution_count": null,
   "id": "ae9f3157-5c1c-4235-b4fc-2d2cd456cad5",
   "metadata": {},
   "outputs": [],
   "source": []
  }
 ],
 "metadata": {
  "kernelspec": {
   "display_name": "Python 3 (ipykernel)",
   "language": "python",
   "name": "python3"
  },
  "language_info": {
   "codemirror_mode": {
    "name": "ipython",
    "version": 3
   },
   "file_extension": ".py",
   "mimetype": "text/x-python",
   "name": "python",
   "nbconvert_exporter": "python",
   "pygments_lexer": "ipython3",
   "version": "3.8.12"
  }
 },
 "nbformat": 4,
 "nbformat_minor": 5
}
