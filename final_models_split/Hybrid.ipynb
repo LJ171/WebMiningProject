{
 "cells": [
  {
   "cell_type": "code",
   "execution_count": 9,
   "id": "e070d072-1c35-4ae9-9c39-23552a463a53",
   "metadata": {},
   "outputs": [],
   "source": [
    "%run helper.ipynb"
   ]
  },
  {
   "cell_type": "markdown",
   "id": "00a2fc70-2312-430c-b63d-88fb457377a7",
   "metadata": {},
   "source": [
    "# Disclaimer\n",
    "This isn't the working hybrid model. The goal of this notebook is to emulate the behavior of the actual hybrid model which can be found in 'combined_models.ipynb'. The reason why not the actual model is run is due to not all models fitting into the memory at the same time. "
   ]
  },
  {
   "cell_type": "code",
   "execution_count": 2,
   "id": "5c5fb2d9-4cb2-49c6-9a03-d9dbfee8b024",
   "metadata": {},
   "outputs": [],
   "source": [
    "model_content = 'ContentBasedSVMModel'\n",
    "model_collab = 'UserCollabKnnModel'\n",
    "model_sa = 'UserCollabSentimentWeightedAverageModel'"
   ]
  },
  {
   "cell_type": "code",
   "execution_count": 3,
   "id": "82d54e9e-ebef-4476-af0b-73746669c394",
   "metadata": {},
   "outputs": [],
   "source": [
    "def get_hybrid_predictions(subset_name, model1, model2, model3, f='test'):\n",
    "    model1_pred = pd.read_csv(os.path.join('predictions', f'predictions_{f}-{model1}-{subset_name}.txt'))['0']\n",
    "    model2_pred = pd.read_csv(os.path.join('predictions',f'predictions_{f}-{model2}-{subset_name}.txt'))['0']\n",
    "    model3_pred = pd.read_csv(os.path.join('predictions',f'predictions_{f}-{model3}-{subset_name}.txt'))['0']\n",
    "    return (model1_pred + model2_pred + model3_pred)/3"
   ]
  },
  {
   "cell_type": "code",
   "execution_count": 4,
   "id": "757d2b50-e0d4-4991-a522-6160bd6f02d1",
   "metadata": {},
   "outputs": [
    {
     "name": "stdout",
     "output_type": "stream",
     "text": [
      "RMSE: 1.051536897437413\n",
      "MAE: 0.7185120157461419\n",
      "\n"
     ]
    }
   ],
   "source": [
    "X_test, y_test = load_test(subset_name)\n",
    "y_pred = get_hybrid_predictions(subset_name, model_content, model_collab, model_sa)\n",
    "print_score(y_test, y_pred)"
   ]
  },
  {
   "cell_type": "code",
   "execution_count": 8,
   "id": "203b64cf-6581-4606-8150-0e98e789b11b",
   "metadata": {},
   "outputs": [
    {
     "name": "stdout",
     "output_type": "stream",
     "text": [
      "User A1IKOYZVFHO1XP has previously enjoyed:\n",
      "Toto IV by Toto\n",
      "Journey: Greatest Hits by Journey\n",
      "Fleetwood Mac by Fleetwood Mac\n",
      "Phil Collins - Hits by Phil Collins\n",
      "Brand New Day by Sting\n",
      "Brand New Day by Sting\n",
      "\n",
      "We now recommend him:\n",
      "Daydream by Mariah Carey\n",
      "The Sopranos: Music From the HBO Original Series by Various Artists\n",
      "Gold by Don Williams\n",
      "The Sopranos: Music From the HBO Original Series by Various Artists\n",
      "Gold by Don Williams\n",
      "<span class=\"a-size-medium a-color-secondary a-text-normal\" by Bette Midler\n",
      "Ultimate Sinatra by Frank Sinatra\n",
      "\n",
      "User A2PV6GK1HV54Y9 has previously enjoyed:\n",
      "Grease Original 1978 Motion Picture Soundtrack by Olivia Newton-John\n",
      "Merry Christmas by Mariah Carey\n",
      "Home for Christmas by Amy Grant\n",
      "The Spirit Room by Michelle Branch\n",
      "<span id=\"parentalAdvisory\" class=\"a-size-medium a-color-secondary a-text-normal\" by Yeah Yeah Yeahs\n",
      "Home for Christmas by Amy Grant\n",
      "The Spirit Room by Michelle Branch\n",
      "<span id=\"parentalAdvisory\" class=\"a-size-medium a-color-secondary a-text-normal\" by Yeah Yeah Yeahs\n",
      "\n",
      "We now recommend him:\n",
      "Ultimate Collection by Jackson 5\n",
      "Cheap Thrills by Janis Joplin\n",
      "Citizen Steely Dan: 1972-1980 by Steely Dan\n",
      "Nuggets: A Classic Collection from the Psychedelic 60's by Nuggets (Series)\n",
      "New Favorite by Alison Krauss and Union Station\n",
      "New Favorite by Alison Krauss and Union Station\n",
      "\n",
      "User A1HCCW38EQQBTY has previously enjoyed:\n",
      "Glitter by Mariah Carey\n",
      "Full Moon by Brandy\n",
      "Glitter by Mariah Carey\n",
      "Full Moon by Brandy\n",
      "Back To Love Deluxe Version by Anthony Hamilton\n",
      "Love, Charlie by Charlie Wilson\n",
      "<span id=\"parentalAdvisory\" class=\"a-size-medium a-color-secondary a-text-normal\" by Chris Brown\n",
      "\n",
      "We now recommend him:\n",
      "Toto IV by Toto\n",
      "Soundgarden - Badmotorfinger by Soundgarden\n",
      "Led Zeppelin II by Led Zeppelin\n",
      "Lola versus Powerman and the Money-Go-Round, Part One by The Kinks\n",
      "The Essential Harold Melvin &amp; the Blue Notes by Teddy Pendergrass\n",
      "The Essential Harold Melvin &amp; the Blue Notes by Teddy Pendergrass\n",
      "\n",
      "User A2C7BOQVFH1HLE has previously enjoyed:\n",
      "Rage Against the Machine by Rage Against The Machine\n",
      "Master of Puppets by Metallica\n",
      "Back in Black by AC/DC\n",
      "The Very Best of Deep Purple by Deep Purple\n",
      "America - The Complete Greatest Hits by America\n",
      "The Very Best of Deep Purple by Deep Purple\n",
      "America - The Complete Greatest Hits by America\n",
      "\n",
      "We now recommend him:\n",
      "Live Bullet by Bob Seger\n",
      "1967-1970 The Blue Album by The Beatles\n",
      "Pure 60's: The #1 Hits by Various Artists\n",
      "Pure 60's: The #1 Hits by Various Artists\n",
      "<span id=\"parentalAdvisory\" class=\"a-size-medium a-color-secondary a-text-normal\" by Lamb of God\n",
      "Winery Dogs by The Winery Dogs\n",
      "\n",
      "User A3O8YT41TDXL0B has previously enjoyed:\n",
      "One Heart by Celine Dion\n",
      "Schizophrenic by J.C. Chasez\n",
      "So-Called Chaos by Alanis Morissette\n",
      "Get Lifted by John Legend\n",
      "The Dana Owens Album by Queen Latifah\n",
      "One Heart by Celine Dion\n",
      "Schizophrenic by J.C. Chasez\n",
      "So-Called Chaos by Alanis Morissette\n",
      "Get Lifted by John Legend\n",
      "The Dana Owens Album by Queen Latifah\n",
      "\n",
      "We now recommend him:\n",
      "Famous Blue Raincoat by Jennifer Warnes\n",
      "Toto IV by Toto\n",
      "Free To Be... You And Me 1972 Television Cast by Marlo Thomas\n",
      "Led Zeppelin: Celebration Day - The Inside Story by Led Zeppelin\n",
      "Holidays Rule by Paul McCartney\n",
      "\n",
      "User A26NLSTT75FMJM has previously enjoyed:\n",
      "The Wild, The Innocent &amp; The E Street Shuffle by Bruce Springsteen\n",
      "Houses Of The Holy by Led Zeppelin\n",
      "Let There Be Rock by AC/DC\n",
      "Let There Be Rock by AC/DC\n",
      "The Byrds - Greatest Hits by The Byrds\n",
      "The Byrds - Greatest Hits by The Byrds\n",
      "\n",
      "We now recommend him:\n",
      "...And Out Come The Wolves by Rancid\n",
      "The Blues Brothers: Original Soundtrack Recording by The Blues Brothers\n",
      "<span id=\"parentalAdvisory\" class=\"a-size-medium a-color-secondary a-text-normal\" by Wu-Tang Clan\n",
      "I Told You So: The Ultimate Hits of Randy Travis by Randy Travis\n",
      "The Classic Christmas Album by Andy Williams\n",
      "\n",
      "User AWPODHOB4GFWL has previously enjoyed:\n",
      "Every Good Boy Deserves Favour by The Moody Blues\n",
      "Dances With Wolves Soundtrack by John Barry\n",
      "HIStory: Past, Present, &amp; Future, Book I by Michael Jackson\n",
      "Hot Rocks by The Rolling Stones\n",
      "Aladdin Sane by David Bowie\n",
      "Aladdin Sane by David Bowie\n",
      "\n",
      "We now recommend him:\n",
      "Master of Puppets by Metallica\n",
      "Fleetwood Mac by Fleetwood Mac\n",
      "Bridge Over Troubled Water/This Is The Night by Clay Aiken\n",
      "Bridge Over Troubled Water/This Is The Night by Clay Aiken\n",
      "Live In Gdansk by David Gilmour\n",
      "Tony Bennett: Duets II by Tony Bennett\n",
      "\n"
     ]
    }
   ],
   "source": [
    "for u in user_ids:\n",
    "    y_pred_u = get_hybrid_predictions(subset_name, model_content, model_collab, model_sa, f=u)\n",
    "    show_recs(u, subset_name, y_pred_u)"
   ]
  },
  {
   "cell_type": "code",
   "execution_count": null,
   "id": "ae9f3157-5c1c-4235-b4fc-2d2cd456cad5",
   "metadata": {},
   "outputs": [],
   "source": []
  }
 ],
 "metadata": {
  "kernelspec": {
   "display_name": "Python 3 (ipykernel)",
   "language": "python",
   "name": "python3"
  },
  "language_info": {
   "codemirror_mode": {
    "name": "ipython",
    "version": 3
   },
   "file_extension": ".py",
   "mimetype": "text/x-python",
   "name": "python",
   "nbconvert_exporter": "python",
   "pygments_lexer": "ipython3",
   "version": "3.8.12"
  }
 },
 "nbformat": 4,
 "nbformat_minor": 5
}
