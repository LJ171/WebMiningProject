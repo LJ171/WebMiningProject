{
 "cells": [
  {
   "cell_type": "markdown",
   "id": "62e1e01e-645d-4eff-91cc-a478bc435648",
   "metadata": {
    "tags": []
   },
   "source": [
    "# Parameters"
   ]
  },
  {
   "cell_type": "code",
   "execution_count": 7,
   "id": "15aa2eb1-009f-43f6-b045-d046acc269d7",
   "metadata": {
    "tags": []
   },
   "outputs": [],
   "source": [
    "subset_name = 'CDs_and_Vinyl'\n",
    "user_ids = ['A1IKOYZVFHO1XP', 'A2PV6GK1HV54Y9', 'A1HCCW38EQQBTY', 'A2C7BOQVFH1HLE', 'A3O8YT41TDXL0B', 'A26NLSTT75FMJM', 'AWPODHOB4GFWL']\n",
    "min_amount_product_mentions = 150\n",
    "min_amount_user_mentions = 100"
   ]
  },
  {
   "cell_type": "markdown",
   "id": "4960730d-e997-4d1f-891a-861adc921593",
   "metadata": {},
   "source": [
    "# Helper Methods"
   ]
  },
  {
   "cell_type": "code",
   "execution_count": 8,
   "id": "61059be6-a3ba-48e0-8b1e-011352e7da3e",
   "metadata": {},
   "outputs": [],
   "source": [
    "import numpy as np\n",
    "import os\n",
    "import pandas as pd\n",
    "\n",
    "from sklearn.metrics import mean_squared_error, mean_absolute_error"
   ]
  },
  {
   "cell_type": "code",
   "execution_count": 9,
   "id": "3d1ffee3-0481-4096-b84f-ddf537e211e2",
   "metadata": {},
   "outputs": [],
   "source": [
    "def print_score(y1, y2):\n",
    "    print(f'RMSE: {np.sqrt(mean_squared_error(y1, y2))}')\n",
    "    print(f'MAE: {mean_absolute_error(y1, y2)}')\n",
    "    print('')"
   ]
  },
  {
   "cell_type": "code",
   "execution_count": 10,
   "id": "353fac49-f345-4b0a-9324-842d0b889452",
   "metadata": {},
   "outputs": [],
   "source": [
    "def load_train(subset_name):\n",
    "    return pd.read_csv(os.path.join(f'X_train_{subset_name}.txt')), pd.read_csv(os.path.join(f'y_train_{subset_name}.txt'))['overall']"
   ]
  },
  {
   "cell_type": "code",
   "execution_count": 11,
   "id": "189edca4-f4af-4f83-82cd-8f5901e55c1d",
   "metadata": {},
   "outputs": [],
   "source": [
    "def load_train_sa(subset_name):\n",
    "    return pd.read_csv(os.path.join(f'X_train_sa_{subset_name}.txt')), pd.read_csv(os.path.join(f'y_train_sa_{subset_name}.txt'))['overall']"
   ]
  },
  {
   "cell_type": "code",
   "execution_count": 12,
   "id": "7817b420-bfb3-45f0-a3d7-42a807129def",
   "metadata": {},
   "outputs": [],
   "source": [
    "def load_test(subset_name):\n",
    "    return pd.read_csv(os.path.join(f'X_test_{subset_name}.txt')), pd.read_csv(os.path.join(f'y_test_{subset_name}.txt'))['overall']"
   ]
  },
  {
   "cell_type": "code",
   "execution_count": 13,
   "id": "98838d70-8a32-46e0-8216-4f56fdecb65c",
   "metadata": {},
   "outputs": [],
   "source": [
    "def load_meta(subset_name):\n",
    "        return pd.read_csv(os.path.join(f'meta_{subset_name}.txt'))"
   ]
  },
  {
   "cell_type": "code",
   "execution_count": 14,
   "id": "b7cf20dd-5a3e-41d5-b9d2-f3ff233bfef2",
   "metadata": {},
   "outputs": [],
   "source": [
    "def save_preds(model, subset_name, pred, f='test'):\n",
    "    os.listdir()\n",
    "    pd.DataFrame(pred).to_csv(os.path.join('predictions', f'predictions_{f}-{model.__class__.__name__}-{subset_name}.txt'))"
   ]
  },
  {
   "cell_type": "code",
   "execution_count": 15,
   "id": "3470df31-e9da-4752-8b76-4bf4c0a97c56",
   "metadata": {},
   "outputs": [],
   "source": [
    "def get_user_pred_data(user_id, subset_name):\n",
    "    X_train, y_train = load_train(subset_name)\n",
    "    X_train_sa, y_train_sa = load_train_sa(subset_name)        \n",
    "    X_test, y_test = load_test(subset_name)\n",
    "    meta = load_meta(subset_name)\n",
    "    \n",
    "    product_ids = pd.concat([X_train['asin'], X_train_sa['asin'], X_test['asin']]).unique()\n",
    "    not_rated_product_ids = [x for x in product_ids if x not in set(X_train[X_train['reviewerID'] == user_id]['asin'].values)]\n",
    "        \n",
    "    user_product_pairs = pd.DataFrame({\n",
    "        'asin': not_rated_product_ids,\n",
    "        'reviewerID': [user_id]*len(not_rated_product_ids)\n",
    "    })\n",
    "    return pd.merge(user_product_pairs, meta[['asin', 'metadata']], on='asin')"
   ]
  },
  {
   "cell_type": "code",
   "execution_count": 20,
   "id": "2fc1263a-c4a5-461c-a6ba-d4630f34aa3f",
   "metadata": {
    "tags": []
   },
   "outputs": [],
   "source": [
    "def show_recs(user_id, subset_name, predicted_ratings, k=5):\n",
    "    recs = get_user_pred_data(user_id, subset_name)\n",
    "    recs['overall'] = predicted_ratings\n",
    "    recs = recs.sort_values(by='overall',ascending=False).head(k)\n",
    "    \n",
    "    meta = load_meta(subset_name)\n",
    "    X_train, y_train = load_train(subset_name)\n",
    "    X_train['overall'] = y_train\n",
    "    \n",
    "    print(f'User {user_id} has previously enjoyed:')\n",
    "    previously_rated = X_train[X_train['reviewerID']==user_id].sort_values(by='overall',ascending=False).head(k)['asin'].values\n",
    "    print_product_titles(meta, previously_rated)\n",
    "    print('')\n",
    "    print('We now recommend him:')\n",
    "    recommendations =  recs['asin'].values\n",
    "    print_product_titles(meta, recommendations)\n",
    "    print('')\n",
    "    \n",
    "def print_product_titles(meta, ids):\n",
    "    p = meta[meta['asin'].isin(ids)]\n",
    "    for index, row in p.iterrows():\n",
    "        print(f\"{row['title']} by {row['brand']}\")"
   ]
  },
  {
   "cell_type": "code",
   "execution_count": null,
   "id": "6b884330-3185-4a8e-b1bc-6eb3f40fea5e",
   "metadata": {},
   "outputs": [],
   "source": []
  }
 ],
 "metadata": {
  "kernelspec": {
   "display_name": "Python 3 (ipykernel)",
   "language": "python",
   "name": "python3"
  },
  "language_info": {
   "codemirror_mode": {
    "name": "ipython",
    "version": 3
   },
   "file_extension": ".py",
   "mimetype": "text/x-python",
   "name": "python",
   "nbconvert_exporter": "python",
   "pygments_lexer": "ipython3",
   "version": "3.8.12"
  }
 },
 "nbformat": 4,
 "nbformat_minor": 5
}
